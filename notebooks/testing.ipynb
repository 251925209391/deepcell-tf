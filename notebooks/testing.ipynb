{
 "cells": [
  {
   "cell_type": "code",
   "execution_count": 8,
   "id": "alive-pointer",
   "metadata": {},
   "outputs": [],
   "source": [
    "import os \n",
    "\n",
    "import numpy as np \n",
    "import pandas as pd\n",
    "\n",
    "from deepcell.graph_utils import get_max_cells\n",
    "\n",
    "from deepcell.tmp_func_holder import load_mibi_data, load_celltypes"
   ]
  },
  {
   "cell_type": "code",
   "execution_count": 12,
   "id": "explicit-carolina",
   "metadata": {},
   "outputs": [
    {
     "name": "stdout",
     "output_type": "stream",
     "text": [
      "CPU times: user 33.5 s, sys: 3.38 s, total: 36.9 s\n",
      "Wall time: 36.9 s\n"
     ]
    }
   ],
   "source": [
    "%%time\n",
    "\n",
    "# data_path = 'D:/GNN/data/TNBC'\n",
    "data_path = '../data/TNBC/'\n",
    "\n",
    "mibi_data_path = os.path.join(data_path, 'TNBCShareData')\n",
    "mibi_label_path = os.path.join(data_path, 'TNBC_labels/label_images.npy')\n",
    "mibi_celltype_path = os.path.join(data_path, 'TNBCcellTypes')\n",
    "TNBCpanelInfo_path = os.path.join(data_path,'TNBCpanelInfo.csv')\n",
    "\n",
    "# print(mibi_data_path)\n",
    "\n",
    "POINT_LIST = [2, 5, 8, 9, 21, 22, 24, 26, 34, 37, 38, 41]\n",
    "\n",
    "mibi_data = load_mibi_data(mibi_data_path, point_list=POINT_LIST)\n",
    "mibi_labels = np.load(mibi_label_path)\n",
    "mibi_celltypes = load_celltypes(mibi_celltype_path, point_list=POINT_LIST)\n",
    "\n",
    "\n",
    "# Shrink raw data and labelsa to line up with cell type image\n",
    "tmp_mibi_data = mibi_data[:,30:-30, 30:-30, :]\n",
    "mibi_labels = mibi_labels[:,30:-30, 30:-30, :]\n",
    "mibi_celltypes = mibi_celltypes[:,30:-30, 30:-30, :]"
   ]
  },
  {
   "cell_type": "code",
   "execution_count": 13,
   "id": "turkish-diving",
   "metadata": {},
   "outputs": [
    {
     "data": {
      "text/plain": [
       "(12, 1988, 1988, 1)"
      ]
     },
     "execution_count": 13,
     "metadata": {},
     "output_type": "execute_result"
    }
   ],
   "source": [
    "mibi_labels.shape"
   ]
  },
  {
   "cell_type": "code",
   "execution_count": 14,
   "id": "homeless-nylon",
   "metadata": {},
   "outputs": [
    {
     "data": {
      "text/plain": [
       "(12, 1988, 1988)"
      ]
     },
     "execution_count": 14,
     "metadata": {},
     "output_type": "execute_result"
    }
   ],
   "source": [
    "label_image = np.squeeze(mibi_labels)\n",
    "label_image.shape"
   ]
  },
  {
   "cell_type": "code",
   "execution_count": 15,
   "id": "theoretical-nightlife",
   "metadata": {},
   "outputs": [
    {
     "data": {
      "text/plain": [
       "3953"
      ]
     },
     "execution_count": 15,
     "metadata": {},
     "output_type": "execute_result"
    }
   ],
   "source": [
    "max_cells = get_max_cells(label_image)\n",
    "max_cells"
   ]
  },
  {
   "cell_type": "code",
   "execution_count": 16,
   "id": "separated-proportion",
   "metadata": {},
   "outputs": [],
   "source": [
    "adjacency_matrix = np.zeros((label_image.shape[0], max_cells, max_cells))\n",
    "centroid_matrix = np.zeros((label_image.shape[0], max_cells, 2))\n",
    "label_matrix = np.zeros((label_image.shape[0], max_cells))"
   ]
  },
  {
   "cell_type": "code",
   "execution_count": 22,
   "id": "conscious-enemy",
   "metadata": {},
   "outputs": [],
   "source": [
    "from skimage.measure import regionprops_table"
   ]
  },
  {
   "cell_type": "code",
   "execution_count": 23,
   "id": "headed-pavilion",
   "metadata": {},
   "outputs": [],
   "source": [
    "for batch in range(label_image.shape[0]):\n",
    "    label_image_batch = label_image[batch]\n",
    "    \n",
    "    props = regionprops_table(label_image_batch, properties=['centroid', 'label'])\n",
    "    \n",
    "    break"
   ]
  },
  {
   "cell_type": "code",
   "execution_count": 26,
   "id": "sustained-entry",
   "metadata": {},
   "outputs": [
    {
     "data": {
      "text/plain": [
       "(2343,)"
      ]
     },
     "execution_count": 26,
     "metadata": {},
     "output_type": "execute_result"
    }
   ],
   "source": [
    "props['centroid-0'].shape"
   ]
  },
  {
   "cell_type": "code",
   "execution_count": 28,
   "id": "passing-portrait",
   "metadata": {},
   "outputs": [
    {
     "data": {
      "text/plain": [
       "(2343, 2)"
      ]
     },
     "execution_count": 28,
     "metadata": {},
     "output_type": "execute_result"
    }
   ],
   "source": [
    "np.stack([props['centroid-0'], props['centroid-1']], axis=-1).shape"
   ]
  },
  {
   "cell_type": "code",
   "execution_count": 30,
   "id": "painful-dispute",
   "metadata": {},
   "outputs": [
    {
     "data": {
      "text/plain": [
       "(2343,)"
      ]
     },
     "execution_count": 30,
     "metadata": {},
     "output_type": "execute_result"
    }
   ],
   "source": [
    "props['label'].shape"
   ]
  },
  {
   "cell_type": "code",
   "execution_count": 31,
   "id": "sealed-button",
   "metadata": {},
   "outputs": [
    {
     "data": {
      "text/plain": [
       "array([[   5, 1038],\n",
       "       [   2, 1772],\n",
       "       [   0, 1369],\n",
       "       ...,\n",
       "       [1984,  693],\n",
       "       [1987, 1057],\n",
       "       [1984,  286]])"
      ]
     },
     "execution_count": 31,
     "metadata": {},
     "output_type": "execute_result"
    }
   ],
   "source": [
    "np.stack([props['centroid-0'], props['centroid-1']], axis=-1)"
   ]
  },
  {
   "cell_type": "code",
   "execution_count": 32,
   "id": "indonesian-destination",
   "metadata": {},
   "outputs": [],
   "source": [
    "from scipy.spatial.distance import cdist"
   ]
  },
  {
   "cell_type": "code",
   "execution_count": null,
   "id": "latter-confusion",
   "metadata": {},
   "outputs": [],
   "source": [
    "cdist()"
   ]
  }
 ],
 "metadata": {
  "kernelspec": {
   "display_name": "Python 3",
   "language": "python",
   "name": "python3"
  },
  "language_info": {
   "codemirror_mode": {
    "name": "ipython",
    "version": 3
   },
   "file_extension": ".py",
   "mimetype": "text/x-python",
   "name": "python",
   "nbconvert_exporter": "python",
   "pygments_lexer": "ipython3",
   "version": "3.6.9"
  }
 },
 "nbformat": 4,
 "nbformat_minor": 5
}
