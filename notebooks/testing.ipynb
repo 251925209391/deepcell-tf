{
 "cells": [
  {
   "cell_type": "code",
   "execution_count": 1,
   "id": "alive-pointer",
   "metadata": {},
   "outputs": [],
   "source": [
    "import os \n",
    "\n",
    "import numpy as np \n",
    "import pandas as pd\n",
    "\n",
    "from deepcell.graph_utils import get_max_cells\n",
    "\n",
    "from deepcell.tmp_funcs import load_mibi_data, load_celltypes"
   ]
  },
  {
   "cell_type": "code",
   "execution_count": 12,
   "id": "explicit-carolina",
   "metadata": {},
   "outputs": [
    {
     "name": "stdout",
     "output_type": "stream",
     "text": [
      "CPU times: user 33.5 s, sys: 3.38 s, total: 36.9 s\n",
      "Wall time: 36.9 s\n"
     ]
    }
   ],
   "source": [
    "%%time\n",
    "\n",
    "# data_path = 'D:/GNN/data/TNBC'\n",
    "data_path = '../data/TNBC/'\n",
    "\n",
    "mibi_data_path = os.path.join(data_path, 'TNBCShareData')\n",
    "mibi_label_path = os.path.join(data_path, 'TNBC_labels/label_images.npy')\n",
    "mibi_celltype_path = os.path.join(data_path, 'TNBCcellTypes')\n",
    "TNBCpanelInfo_path = os.path.join(data_path,'TNBCpanelInfo.csv')\n",
    "\n",
    "# print(mibi_data_path)\n",
    "\n",
    "POINT_LIST = [2, 5, 8, 9, 21, 22, 24, 26, 34, 37, 38, 41]\n",
    "\n",
    "mibi_data = load_mibi_data(mibi_data_path, point_list=POINT_LIST)\n",
    "mibi_labels = np.load(mibi_label_path)\n",
    "mibi_celltypes = load_celltypes(mibi_celltype_path, point_list=POINT_LIST)\n",
    "\n",
    "\n",
    "# Shrink raw data and labelsa to line up with cell type image\n",
    "tmp_mibi_data = mibi_data[:,30:-30, 30:-30, :]\n",
    "mibi_labels = mibi_labels[:,30:-30, 30:-30, :]\n",
    "mibi_celltypes = mibi_celltypes[:,30:-30, 30:-30, :]"
   ]
  },
  {
   "cell_type": "code",
   "execution_count": 13,
   "id": "turkish-diving",
   "metadata": {},
   "outputs": [
    {
     "data": {
      "text/plain": [
       "(12, 1988, 1988, 1)"
      ]
     },
     "execution_count": 13,
     "metadata": {},
     "output_type": "execute_result"
    }
   ],
   "source": [
    "mibi_labels.shape"
   ]
  },
  {
   "cell_type": "code",
   "execution_count": 14,
   "id": "homeless-nylon",
   "metadata": {},
   "outputs": [
    {
     "data": {
      "text/plain": [
       "(12, 1988, 1988)"
      ]
     },
     "execution_count": 14,
     "metadata": {},
     "output_type": "execute_result"
    }
   ],
   "source": [
    "label_image = np.squeeze(mibi_labels)\n",
    "label_image.shape"
   ]
  },
  {
   "cell_type": "code",
   "execution_count": 15,
   "id": "theoretical-nightlife",
   "metadata": {},
   "outputs": [
    {
     "data": {
      "text/plain": [
       "3953"
      ]
     },
     "execution_count": 15,
     "metadata": {},
     "output_type": "execute_result"
    }
   ],
   "source": [
    "max_cells = get_max_cells(label_image)\n",
    "max_cells"
   ]
  },
  {
   "cell_type": "code",
   "execution_count": 16,
   "id": "separated-proportion",
   "metadata": {},
   "outputs": [],
   "source": [
    "adjacency_matrix = np.zeros((label_image.shape[0], max_cells, max_cells))\n",
    "centroid_matrix = np.zeros((label_image.shape[0], max_cells, 2))\n",
    "label_matrix = np.zeros((label_image.shape[0], max_cells))"
   ]
  },
  {
   "cell_type": "code",
   "execution_count": 22,
   "id": "conscious-enemy",
   "metadata": {},
   "outputs": [],
   "source": [
    "from skimage.measure import regionprops_table"
   ]
  },
  {
   "cell_type": "code",
   "execution_count": 23,
   "id": "headed-pavilion",
   "metadata": {},
   "outputs": [],
   "source": [
    "for batch in range(label_image.shape[0]):\n",
    "    label_image_batch = label_image[batch]\n",
    "    \n",
    "    props = regionprops_table(label_image_batch, properties=['centroid', 'label'])\n",
    "    \n",
    "    break"
   ]
  },
  {
   "cell_type": "code",
   "execution_count": 26,
   "id": "sustained-entry",
   "metadata": {},
   "outputs": [
    {
     "data": {
      "text/plain": [
       "(2343,)"
      ]
     },
     "execution_count": 26,
     "metadata": {},
     "output_type": "execute_result"
    }
   ],
   "source": [
    "props['centroid-0'].shape"
   ]
  },
  {
   "cell_type": "code",
   "execution_count": 28,
   "id": "passing-portrait",
   "metadata": {},
   "outputs": [
    {
     "data": {
      "text/plain": [
       "(2343, 2)"
      ]
     },
     "execution_count": 28,
     "metadata": {},
     "output_type": "execute_result"
    }
   ],
   "source": [
    "np.stack([props['centroid-0'], props['centroid-1']], axis=-1).shape"
   ]
  },
  {
   "cell_type": "code",
   "execution_count": 30,
   "id": "painful-dispute",
   "metadata": {},
   "outputs": [
    {
     "data": {
      "text/plain": [
       "(2343,)"
      ]
     },
     "execution_count": 30,
     "metadata": {},
     "output_type": "execute_result"
    }
   ],
   "source": [
    "props['label'].shape"
   ]
  },
  {
   "cell_type": "code",
   "execution_count": 31,
   "id": "sealed-button",
   "metadata": {},
   "outputs": [
    {
     "data": {
      "text/plain": [
       "array([[   5, 1038],\n",
       "       [   2, 1772],\n",
       "       [   0, 1369],\n",
       "       ...,\n",
       "       [1984,  693],\n",
       "       [1987, 1057],\n",
       "       [1984,  286]])"
      ]
     },
     "execution_count": 31,
     "metadata": {},
     "output_type": "execute_result"
    }
   ],
   "source": [
    "np.stack([props['centroid-0'], props['centroid-1']], axis=-1)"
   ]
  },
  {
   "cell_type": "code",
   "execution_count": 32,
   "id": "indonesian-destination",
   "metadata": {},
   "outputs": [],
   "source": [
    "from scipy.spatial.distance import cdist"
   ]
  },
  {
   "cell_type": "code",
   "execution_count": null,
   "id": "latter-confusion",
   "metadata": {},
   "outputs": [],
   "source": [
    "cdist()"
   ]
  },
  {
   "cell_type": "code",
   "execution_count": 1,
   "metadata": {},
   "outputs": [],
   "source": [
    "import numpy as np\n",
    "import skimage as sk"
   ]
  },
  {
   "cell_type": "code",
   "execution_count": 2,
   "metadata": {},
   "outputs": [],
   "source": [
    "test = sk.data.binary_blobs(128, n_dim=2)"
   ]
  },
  {
   "cell_type": "code",
   "execution_count": 3,
   "metadata": {},
   "outputs": [
    {
     "output_type": "execute_result",
     "data": {
      "text/plain": [
       "array([0, 1, 2, 3, 4, 5, 6, 7, 8, 9])"
      ]
     },
     "metadata": {},
     "execution_count": 3
    }
   ],
   "source": [
    "np.unique(sk.measure.label(test))"
   ]
  },
  {
   "cell_type": "code",
   "execution_count": 12,
   "metadata": {},
   "outputs": [],
   "source": [
    "def _get_dummy_mibi_data(num_batches=3, img_dim=128):\n",
    "    \"\"\"dockersting holder - generate fake mibi data \"\"\"\n",
    "    # generate feature data\n",
    "    \n",
    "    multiplexed_img = []\n",
    "    for _ in range(num_batches):\n",
    "        bias = np.random.rand(img_dim, img_dim, 1)*64\n",
    "        variance = np.random.rand(img_dim, img_dim, 1) * (255-64)\n",
    "        imarray = np.random.rand(img_dim, img_dim, 6) * variance + bias\n",
    "        multiplexed_img.append(imarray)\n",
    "    multiplexed_img = np.array(multiplexed_img)\n",
    "\n",
    "\n",
    "    # generate label data\n",
    "    labels = []\n",
    "    while len(labels) < num_batches:\n",
    "        _x = sk.data.binary_blobs(length=img_dim, n_dim=2)\n",
    "        _y = sk.measure.label(_x)\n",
    "        if len(np.unique(_y)) > 3:\n",
    "            labels.append(_y)\n",
    "\n",
    "    labels = np.stack(labels, axis=0)\n",
    "    labels = np.expand_dims(labels, axis=-1)\n",
    "\n",
    "    return multiplexed_img.astype('float32'), labels.astype('int32')"
   ]
  },
  {
   "cell_type": "code",
   "execution_count": 13,
   "metadata": {},
   "outputs": [],
   "source": [
    "x, y = _get_dummy_mibi_data()"
   ]
  },
  {
   "cell_type": "code",
   "execution_count": 14,
   "metadata": {},
   "outputs": [
    {
     "output_type": "execute_result",
     "data": {
      "text/plain": [
       "(3, 128, 128, 6)"
      ]
     },
     "metadata": {},
     "execution_count": 14
    }
   ],
   "source": [
    "x.shape"
   ]
  },
  {
   "cell_type": "code",
   "execution_count": 15,
   "metadata": {},
   "outputs": [
    {
     "output_type": "execute_result",
     "data": {
      "text/plain": [
       "(3, 128, 128, 1)"
      ]
     },
     "metadata": {},
     "execution_count": 15
    }
   ],
   "source": [
    "y.shape"
   ]
  },
  {
   "cell_type": "code",
   "execution_count": 4,
   "metadata": {},
   "outputs": [
    {
     "output_type": "execute_result",
     "data": {
      "text/plain": [
       "20"
      ]
     },
     "metadata": {},
     "execution_count": 4
    }
   ],
   "source": [
    "max([3,5,20])"
   ]
  },
  {
   "cell_type": "code",
   "execution_count": null,
   "metadata": {},
   "outputs": [],
   "source": []
  },
  {
   "cell_type": "code",
   "execution_count": null,
   "metadata": {},
   "outputs": [],
   "source": []
  },
  {
   "cell_type": "code",
   "execution_count": 36,
   "metadata": {},
   "outputs": [],
   "source": [
    "import networkx as nx\n",
    "import matplotlib.pyplot as plt\n",
    "import scipy"
   ]
  },
  {
   "cell_type": "code",
   "execution_count": 37,
   "metadata": {},
   "outputs": [],
   "source": [
    "g = nx.Graph()\n",
    "  \n",
    "g.add_edge(1, 2)\n",
    "g.add_edge(2, 3)\n",
    "g.add_edge(3, 4)\n",
    "g.add_edge(1, 4)\n",
    "g.add_edge(1, 5)"
   ]
  },
  {
   "cell_type": "code",
   "execution_count": 38,
   "metadata": {},
   "outputs": [
    {
     "output_type": "display_data",
     "data": {
      "text/plain": "<Figure size 432x288 with 1 Axes>",
      "image/svg+xml": "<?xml version=\"1.0\" encoding=\"utf-8\" standalone=\"no\"?>\n<!DOCTYPE svg PUBLIC \"-//W3C//DTD SVG 1.1//EN\"\n  \"http://www.w3.org/Graphics/SVG/1.1/DTD/svg11.dtd\">\n<!-- Created with matplotlib (https://matplotlib.org/) -->\n<svg height=\"302.4pt\" version=\"1.1\" viewBox=\"0 0 446.4 302.4\" width=\"446.4pt\" xmlns=\"http://www.w3.org/2000/svg\" xmlns:xlink=\"http://www.w3.org/1999/xlink\">\n <metadata>\n  <rdf:RDF xmlns:cc=\"http://creativecommons.org/ns#\" xmlns:dc=\"http://purl.org/dc/elements/1.1/\" xmlns:rdf=\"http://www.w3.org/1999/02/22-rdf-syntax-ns#\">\n   <cc:Work>\n    <dc:type rdf:resource=\"http://purl.org/dc/dcmitype/StillImage\"/>\n    <dc:date>2021-04-06T16:31:54.364673</dc:date>\n    <dc:format>image/svg+xml</dc:format>\n    <dc:creator>\n     <cc:Agent>\n      <dc:title>Matplotlib v3.3.4, https://matplotlib.org/</dc:title>\n     </cc:Agent>\n    </dc:creator>\n   </cc:Work>\n  </rdf:RDF>\n </metadata>\n <defs>\n  <style type=\"text/css\">*{stroke-linecap:butt;stroke-linejoin:round;}</style>\n </defs>\n <g id=\"figure_1\">\n  <g id=\"patch_1\">\n   <path d=\"M 0 302.4 \nL 446.4 302.4 \nL 446.4 0 \nL 0 0 \nz\n\" style=\"fill:#ffffff;\"/>\n  </g>\n  <g id=\"axes_1\">\n   <g id=\"LineCollection_1\">\n    <path clip-path=\"url(#p1b40daff5b)\" d=\"M 184.708168 119.236238 \nL 366.724906 116.395623 \n\" style=\"fill:none;stroke:#000000;\"/>\n    <path clip-path=\"url(#p1b40daff5b)\" d=\"M 184.708168 119.236238 \nL 257.223924 282.109091 \n\" style=\"fill:none;stroke:#000000;\"/>\n    <path clip-path=\"url(#p1b40daff5b)\" d=\"M 184.708168 119.236238 \nL 26.836364 20.290909 \n\" style=\"fill:none;stroke:#000000;\"/>\n    <path clip-path=\"url(#p1b40daff5b)\" d=\"M 366.724906 116.395623 \nL 419.563636 266.991542 \n\" style=\"fill:none;stroke:#000000;\"/>\n    <path clip-path=\"url(#p1b40daff5b)\" d=\"M 419.563636 266.991542 \nL 257.223924 282.109091 \n\" style=\"fill:none;stroke:#000000;\"/>\n   </g>\n   <g id=\"PathCollection_1\">\n    <defs>\n     <path d=\"M 0 8.660254 \nC 2.296726 8.660254 4.499694 7.747755 6.123724 6.123724 \nC 7.747755 4.499694 8.660254 2.296726 8.660254 0 \nC 8.660254 -2.296726 7.747755 -4.499694 6.123724 -6.123724 \nC 4.499694 -7.747755 2.296726 -8.660254 0 -8.660254 \nC -2.296726 -8.660254 -4.499694 -7.747755 -6.123724 -6.123724 \nC -7.747755 -4.499694 -8.660254 -2.296726 -8.660254 0 \nC -8.660254 2.296726 -7.747755 4.499694 -6.123724 6.123724 \nC -4.499694 7.747755 -2.296726 8.660254 0 8.660254 \nz\n\" id=\"me7f4e7800d\" style=\"stroke:#1f78b4;\"/>\n    </defs>\n    <g clip-path=\"url(#p1b40daff5b)\">\n     <use style=\"fill:#1f78b4;stroke:#1f78b4;\" x=\"184.708168\" xlink:href=\"#me7f4e7800d\" y=\"119.236238\"/>\n     <use style=\"fill:#1f78b4;stroke:#1f78b4;\" x=\"366.724906\" xlink:href=\"#me7f4e7800d\" y=\"116.395623\"/>\n     <use style=\"fill:#1f78b4;stroke:#1f78b4;\" x=\"419.563636\" xlink:href=\"#me7f4e7800d\" y=\"266.991542\"/>\n     <use style=\"fill:#1f78b4;stroke:#1f78b4;\" x=\"257.223924\" xlink:href=\"#me7f4e7800d\" y=\"282.109091\"/>\n     <use style=\"fill:#1f78b4;stroke:#1f78b4;\" x=\"26.836364\" xlink:href=\"#me7f4e7800d\" y=\"20.290909\"/>\n    </g>\n   </g>\n   <g id=\"text_1\">\n    <g clip-path=\"url(#p1b40daff5b)\">\n     <!-- 1 -->\n     <g transform=\"translate(180.890668 122.547488)scale(0.12 -0.12)\">\n      <defs>\n       <path d=\"M 12.40625 8.296875 \nL 28.515625 8.296875 \nL 28.515625 63.921875 \nL 10.984375 60.40625 \nL 10.984375 69.390625 \nL 28.421875 72.90625 \nL 38.28125 72.90625 \nL 38.28125 8.296875 \nL 54.390625 8.296875 \nL 54.390625 0 \nL 12.40625 0 \nz\n\" id=\"DejaVuSans-49\"/>\n      </defs>\n      <use xlink:href=\"#DejaVuSans-49\"/>\n     </g>\n    </g>\n   </g>\n   <g id=\"text_2\">\n    <g clip-path=\"url(#p1b40daff5b)\">\n     <!-- 2 -->\n     <g transform=\"translate(362.907406 119.706873)scale(0.12 -0.12)\">\n      <defs>\n       <path d=\"M 19.1875 8.296875 \nL 53.609375 8.296875 \nL 53.609375 0 \nL 7.328125 0 \nL 7.328125 8.296875 \nQ 12.9375 14.109375 22.625 23.890625 \nQ 32.328125 33.6875 34.8125 36.53125 \nQ 39.546875 41.84375 41.421875 45.53125 \nQ 43.3125 49.21875 43.3125 52.78125 \nQ 43.3125 58.59375 39.234375 62.25 \nQ 35.15625 65.921875 28.609375 65.921875 \nQ 23.96875 65.921875 18.8125 64.3125 \nQ 13.671875 62.703125 7.8125 59.421875 \nL 7.8125 69.390625 \nQ 13.765625 71.78125 18.9375 73 \nQ 24.125 74.21875 28.421875 74.21875 \nQ 39.75 74.21875 46.484375 68.546875 \nQ 53.21875 62.890625 53.21875 53.421875 \nQ 53.21875 48.921875 51.53125 44.890625 \nQ 49.859375 40.875 45.40625 35.40625 \nQ 44.1875 33.984375 37.640625 27.21875 \nQ 31.109375 20.453125 19.1875 8.296875 \nz\n\" id=\"DejaVuSans-50\"/>\n      </defs>\n      <use xlink:href=\"#DejaVuSans-50\"/>\n     </g>\n    </g>\n   </g>\n   <g id=\"text_3\">\n    <g clip-path=\"url(#p1b40daff5b)\">\n     <!-- 3 -->\n     <g transform=\"translate(415.746136 270.302792)scale(0.12 -0.12)\">\n      <defs>\n       <path d=\"M 40.578125 39.3125 \nQ 47.65625 37.796875 51.625 33 \nQ 55.609375 28.21875 55.609375 21.1875 \nQ 55.609375 10.40625 48.1875 4.484375 \nQ 40.765625 -1.421875 27.09375 -1.421875 \nQ 22.515625 -1.421875 17.65625 -0.515625 \nQ 12.796875 0.390625 7.625 2.203125 \nL 7.625 11.71875 \nQ 11.71875 9.328125 16.59375 8.109375 \nQ 21.484375 6.890625 26.8125 6.890625 \nQ 36.078125 6.890625 40.9375 10.546875 \nQ 45.796875 14.203125 45.796875 21.1875 \nQ 45.796875 27.640625 41.28125 31.265625 \nQ 36.765625 34.90625 28.71875 34.90625 \nL 20.21875 34.90625 \nL 20.21875 43.015625 \nL 29.109375 43.015625 \nQ 36.375 43.015625 40.234375 45.921875 \nQ 44.09375 48.828125 44.09375 54.296875 \nQ 44.09375 59.90625 40.109375 62.90625 \nQ 36.140625 65.921875 28.71875 65.921875 \nQ 24.65625 65.921875 20.015625 65.03125 \nQ 15.375 64.15625 9.8125 62.3125 \nL 9.8125 71.09375 \nQ 15.4375 72.65625 20.34375 73.4375 \nQ 25.25 74.21875 29.59375 74.21875 \nQ 40.828125 74.21875 47.359375 69.109375 \nQ 53.90625 64.015625 53.90625 55.328125 \nQ 53.90625 49.265625 50.4375 45.09375 \nQ 46.96875 40.921875 40.578125 39.3125 \nz\n\" id=\"DejaVuSans-51\"/>\n      </defs>\n      <use xlink:href=\"#DejaVuSans-51\"/>\n     </g>\n    </g>\n   </g>\n   <g id=\"text_4\">\n    <g clip-path=\"url(#p1b40daff5b)\">\n     <!-- 4 -->\n     <g transform=\"translate(253.406424 285.420341)scale(0.12 -0.12)\">\n      <defs>\n       <path d=\"M 37.796875 64.3125 \nL 12.890625 25.390625 \nL 37.796875 25.390625 \nz\nM 35.203125 72.90625 \nL 47.609375 72.90625 \nL 47.609375 25.390625 \nL 58.015625 25.390625 \nL 58.015625 17.1875 \nL 47.609375 17.1875 \nL 47.609375 0 \nL 37.796875 0 \nL 37.796875 17.1875 \nL 4.890625 17.1875 \nL 4.890625 26.703125 \nz\n\" id=\"DejaVuSans-52\"/>\n      </defs>\n      <use xlink:href=\"#DejaVuSans-52\"/>\n     </g>\n    </g>\n   </g>\n   <g id=\"text_5\">\n    <g clip-path=\"url(#p1b40daff5b)\">\n     <!-- 5 -->\n     <g transform=\"translate(23.018864 23.602159)scale(0.12 -0.12)\">\n      <defs>\n       <path d=\"M 10.796875 72.90625 \nL 49.515625 72.90625 \nL 49.515625 64.59375 \nL 19.828125 64.59375 \nL 19.828125 46.734375 \nQ 21.96875 47.46875 24.109375 47.828125 \nQ 26.265625 48.1875 28.421875 48.1875 \nQ 40.625 48.1875 47.75 41.5 \nQ 54.890625 34.8125 54.890625 23.390625 \nQ 54.890625 11.625 47.5625 5.09375 \nQ 40.234375 -1.421875 26.90625 -1.421875 \nQ 22.3125 -1.421875 17.546875 -0.640625 \nQ 12.796875 0.140625 7.71875 1.703125 \nL 7.71875 11.625 \nQ 12.109375 9.234375 16.796875 8.0625 \nQ 21.484375 6.890625 26.703125 6.890625 \nQ 35.15625 6.890625 40.078125 11.328125 \nQ 45.015625 15.765625 45.015625 23.390625 \nQ 45.015625 31 40.078125 35.4375 \nQ 35.15625 39.890625 26.703125 39.890625 \nQ 22.75 39.890625 18.8125 39.015625 \nQ 14.890625 38.140625 10.796875 36.28125 \nz\n\" id=\"DejaVuSans-53\"/>\n      </defs>\n      <use xlink:href=\"#DejaVuSans-53\"/>\n     </g>\n    </g>\n   </g>\n  </g>\n </g>\n <defs>\n  <clipPath id=\"p1b40daff5b\">\n   <rect height=\"288\" width=\"432\" x=\"7.2\" y=\"7.2\"/>\n  </clipPath>\n </defs>\n</svg>\n",
      "image/png": "[encoded data removed]"
     },
     "metadata": {}
    }
   ],
   "source": [
    "nx.draw(g, with_labels=True)"
   ]
  },
  {
   "cell_type": "code",
   "execution_count": 39,
   "metadata": {},
   "outputs": [
    {
     "output_type": "execute_result",
     "data": {
      "text/plain": [
       "DegreeView({1: 3, 2: 2, 3: 2, 4: 2, 5: 1})"
      ]
     },
     "metadata": {},
     "execution_count": 39
    }
   ],
   "source": [
    "g.degree()"
   ]
  },
  {
   "cell_type": "code",
   "execution_count": 40,
   "metadata": {},
   "outputs": [],
   "source": [
    "adj = nx.linalg.adj_matrix(g)"
   ]
  },
  {
   "cell_type": "code",
   "execution_count": 43,
   "metadata": {},
   "outputs": [],
   "source": [
    "np_adj = adj.toarray()"
   ]
  },
  {
   "cell_type": "code",
   "execution_count": 51,
   "metadata": {},
   "outputs": [
    {
     "output_type": "execute_result",
     "data": {
      "text/plain": [
       "array([[0, 1, 0, 1, 1],\n",
       "       [1, 0, 1, 0, 0],\n",
       "       [0, 1, 0, 1, 0],\n",
       "       [1, 0, 1, 0, 0],\n",
       "       [1, 0, 0, 0, 0]])"
      ]
     },
     "metadata": {},
     "execution_count": 51
    }
   ],
   "source": [
    "np_adj"
   ]
  },
  {
   "source": [
    "import spektral\n",
    "from spektral import transforms"
   ],
   "cell_type": "code",
   "metadata": {},
   "execution_count": 1,
   "outputs": []
  },
  {
   "cell_type": "code",
   "execution_count": 2,
   "metadata": {},
   "outputs": [
    {
     "output_type": "execute_result",
     "data": {
      "text/plain": [
       "<spektral.transforms.gcn_filter.GCNFilter at 0x7fdcb6733080>"
      ]
     },
     "metadata": {},
     "execution_count": 2
    }
   ],
   "source": [
    "spektral.transforms.gcn_filter.GCNFilter(symmetric=True)"
   ]
  },
  {
   "cell_type": "code",
   "execution_count": 56,
   "metadata": {},
   "outputs": [
    {
     "output_type": "error",
     "ename": "AttributeError",
     "evalue": "module 'spektral' has no attribute 'transforms'",
     "traceback": [
      "\u001b[0;31m---------------------------------------------------------------------------\u001b[0m",
      "\u001b[0;31mAttributeError\u001b[0m                            Traceback (most recent call last)",
      "\u001b[0;32m<ipython-input-56-d6b0e3c1919c>\u001b[0m in \u001b[0;36m<module>\u001b[0;34m\u001b[0m\n\u001b[0;32m----> 1\u001b[0;31m \u001b[0mspektral\u001b[0m\u001b[0;34m.\u001b[0m\u001b[0mtransforms\u001b[0m\u001b[0;34m\u001b[0m\u001b[0;34m\u001b[0m\u001b[0m\n\u001b[0m",
      "\u001b[0;31mAttributeError\u001b[0m: module 'spektral' has no attribute 'transforms'"
     ]
    }
   ],
   "source": [
    "spektral.transforms"
   ]
  },
  {
   "cell_type": "code",
   "execution_count": 55,
   "metadata": {},
   "outputs": [
    {
     "output_type": "execute_result",
     "data": {
      "text/plain": [
       "'0.6.1'"
      ]
     },
     "metadata": {},
     "execution_count": 55
    }
   ],
   "source": [
    "spektral.__version__"
   ]
  },
  {
   "cell_type": "code",
   "execution_count": 42,
   "metadata": {},
   "outputs": [
    {
     "output_type": "execute_result",
     "data": {
      "text/plain": [
       "True"
      ]
     },
     "metadata": {},
     "execution_count": 42
    }
   ],
   "source": [
    "type(adj) == scipy.sparse.csr.csr_matrix"
   ]
  },
  {
   "cell_type": "code",
   "execution_count": 46,
   "metadata": {},
   "outputs": [],
   "source": [
    "laplacian = nx.linalg.laplacian_matrix(g)"
   ]
  },
  {
   "cell_type": "code",
   "execution_count": 47,
   "metadata": {},
   "outputs": [],
   "source": [
    "degree = laplacian + adj"
   ]
  },
  {
   "cell_type": "code",
   "execution_count": 49,
   "metadata": {},
   "outputs": [
    {
     "output_type": "stream",
     "name": "stderr",
     "text": [
      "/usr/local/lib/python3.6/dist-packages/ipykernel_launcher.py:1: RuntimeWarning: divide by zero encountered in power\n  \"\"\"Entry point for launching an IPython kernel.\n"
     ]
    },
    {
     "output_type": "execute_result",
     "data": {
      "text/plain": [
       "array([[0.94655082,        inf,        inf,        inf,        inf],\n",
       "       [       inf, 0.96593633,        inf,        inf,        inf],\n",
       "       [       inf,        inf, 0.96593633,        inf,        inf],\n",
       "       [       inf,        inf,        inf, 0.96593633,        inf],\n",
       "       [       inf,        inf,        inf,        inf, 1.        ]])"
      ]
     },
     "metadata": {},
     "execution_count": 49
    }
   ],
   "source": [
    "degree.toarray()**-.05"
   ]
  },
  {
   "cell_type": "code",
   "execution_count": 45,
   "metadata": {},
   "outputs": [
    {
     "output_type": "execute_result",
     "data": {
      "text/plain": [
       "<5x5 sparse matrix of type '<class 'numpy.int64'>'\n",
       "\twith 10 stored elements in Compressed Sparse Row format>"
      ]
     },
     "metadata": {},
     "execution_count": 45
    }
   ],
   "source": [
    "scipy.sparse.csr.csr_matrix(np_adj)"
   ]
  },
  {
   "cell_type": "code",
   "execution_count": 50,
   "metadata": {},
   "outputs": [
    {
     "output_type": "execute_result",
     "data": {
      "text/plain": [
       "<5x5 sparse matrix of type '<class 'numpy.int64'>'\n",
       "\twith 10 stored elements in Compressed Sparse Row format>"
      ]
     },
     "metadata": {},
     "execution_count": 50
    }
   ],
   "source": [
    "adj"
   ]
  },
  {
   "cell_type": "code",
   "execution_count": 44,
   "metadata": {},
   "outputs": [],
   "source": [
    "\n",
    "\n",
    " # or something, IDK what the answer should be"
   ]
  },
  {
   "cell_type": "code",
   "execution_count": 30,
   "metadata": {},
   "outputs": [],
   "source": [
    "from deepcell.graph_utils import get_max_cells"
   ]
  },
  {
   "cell_type": "code",
   "execution_count": 39,
   "metadata": {},
   "outputs": [
    {
     "output_type": "execute_result",
     "data": {
      "text/plain": [
       "4"
      ]
     },
     "metadata": {},
     "execution_count": 39
    }
   ],
   "source": [
    "get_max_cells(x)"
   ]
  },
  {
   "cell_type": "code",
   "execution_count": 38,
   "metadata": {},
   "outputs": [
    {
     "output_type": "execute_result",
     "data": {
      "text/plain": [
       "(1, 8, 8, 1)"
      ]
     },
     "metadata": {},
     "execution_count": 38
    }
   ],
   "source": [
    "x.shape"
   ]
  },
  {
   "cell_type": "code",
   "execution_count": 42,
   "metadata": {},
   "outputs": [
    {
     "output_type": "execute_result",
     "data": {
      "text/plain": [
       "array([[ 1.,  0.,  0.,  0.,  0.,  0.,  0., 10.],\n",
       "       [ 0.,  0.,  0.,  0.,  0.,  0.,  0.,  0.],\n",
       "       [ 0.,  0.,  0.,  0.,  0.,  0.,  0.,  0.],\n",
       "       [ 0.,  0.,  0.,  0.,  0.,  0.,  0.,  0.],\n",
       "       [ 0.,  0.,  0.,  0.,  0.,  0.,  0.,  0.],\n",
       "       [ 0.,  0.,  0.,  0.,  0.,  0.,  0.,  0.],\n",
       "       [ 0.,  0.,  0.,  0.,  0.,  0.,  0.,  0.],\n",
       "       [ 5.,  0.,  0.,  0.,  0.,  0.,  0.,  2.]])"
      ]
     },
     "metadata": {},
     "execution_count": 42
    }
   ],
   "source": [
    "np.squeeze(x[0,...])"
   ]
  },
  {
   "cell_type": "code",
   "execution_count": null,
   "metadata": {},
   "outputs": [],
   "source": []
  },
  {
   "cell_type": "code",
   "execution_count": 1,
   "metadata": {},
   "outputs": [],
   "source": [
    "%reload_ext autoreload\n",
    "%autoreload 2"
   ]
  },
  {
   "cell_type": "code",
   "execution_count": 2,
   "metadata": {},
   "outputs": [],
   "source": [
    "import numpy as np\n",
    "from scipy.spatial.distance import cdist\n",
    "from skimage.measure import regionprops_table\n",
    "from deepcell import graph_utils\n"
   ]
  },
  {
   "cell_type": "code",
   "execution_count": 3,
   "metadata": {},
   "outputs": [],
   "source": [
    "x = np.zeros((8, 8))\n",
    "\n",
    "x[0, 0] = 1\n",
    "x[7, 7] = 2\n",
    "x[7, 0] = 5\n",
    "x[4, 5] = 6\n",
    "x[0, 7] = 10\n",
    "\n",
    "x = np.expand_dims(x,axis=0).astype('int')\n",
    "x = np.expand_dims(x,axis=-1)"
   ]
  },
  {
   "cell_type": "code",
   "execution_count": 4,
   "metadata": {},
   "outputs": [
    {
     "output_type": "execute_result",
     "data": {
      "text/plain": [
       "array([[0, 0],\n",
       "       [7, 7],\n",
       "       [7, 0],\n",
       "       [4, 5],\n",
       "       [0, 7]])"
      ]
     },
     "metadata": {},
     "execution_count": 4
    }
   ],
   "source": [
    "true_centroids = np.array([[0,0], [7,7], [7,0], [4,5], [0,7]])\n",
    "true_centroids"
   ]
  },
  {
   "cell_type": "code",
   "execution_count": 5,
   "metadata": {},
   "outputs": [
    {
     "output_type": "execute_result",
     "data": {
      "text/plain": [
       "array([ 1,  2,  5,  6, 10])"
      ]
     },
     "metadata": {},
     "execution_count": 5
    }
   ],
   "source": [
    "true_labels = np.array([1,2,5,6,10])\n",
    "true_labels"
   ]
  },
  {
   "cell_type": "code",
   "execution_count": 6,
   "metadata": {},
   "outputs": [
    {
     "output_type": "execute_result",
     "data": {
      "text/plain": [
       "(1, 8, 8, 1)"
      ]
     },
     "metadata": {},
     "execution_count": 6
    }
   ],
   "source": [
    "x.shape"
   ]
  },
  {
   "cell_type": "code",
   "execution_count": 7,
   "metadata": {},
   "outputs": [],
   "source": [
    "max_cells = graph_utils.get_max_cells(x)"
   ]
  },
  {
   "cell_type": "code",
   "execution_count": 15,
   "metadata": {},
   "outputs": [],
   "source": [
    "adjacency_matrix = np.zeros((x.shape[0], max_cells, max_cells))\n",
    "centroid_matrix = np.zeros((x.shape[0], max_cells, 2))\n",
    "label_matrix = np.zeros((x.shape[0], max_cells))"
   ]
  },
  {
   "cell_type": "code",
   "execution_count": 9,
   "metadata": {},
   "outputs": [
    {
     "output_type": "execute_result",
     "data": {
      "text/plain": [
       "(1, 5, 5)"
      ]
     },
     "metadata": {},
     "execution_count": 9
    }
   ],
   "source": [
    "adjacency_matrix.shape"
   ]
  },
  {
   "cell_type": "code",
   "execution_count": 10,
   "metadata": {},
   "outputs": [
    {
     "output_type": "execute_result",
     "data": {
      "text/plain": [
       "(8, 8)"
      ]
     },
     "metadata": {},
     "execution_count": 10
    }
   ],
   "source": [
    "label_image_batch = np.squeeze(x)\n",
    "label_image_batch.shape"
   ]
  },
  {
   "cell_type": "code",
   "execution_count": 11,
   "metadata": {},
   "outputs": [],
   "source": [
    "props = regionprops_table(label_image_batch, properties=['centroid', 'label'])\n",
    "centroids = np.stack([props['centroid-0'], props['centroid-1']], axis=-1)\n",
    "labels = props['label']\n",
    "distances = cdist(centroids, centroids, metric='euclidean')"
   ]
  },
  {
   "cell_type": "code",
   "execution_count": 12,
   "metadata": {},
   "outputs": [
    {
     "output_type": "execute_result",
     "data": {
      "text/plain": [
       "array([[0.        , 9.89949494, 7.        , 6.40312424, 7.        ],\n",
       "       [9.89949494, 0.        , 7.        , 3.60555128, 7.        ],\n",
       "       [7.        , 7.        , 0.        , 5.83095189, 9.89949494],\n",
       "       [6.40312424, 3.60555128, 5.83095189, 0.        , 4.47213595],\n",
       "       [7.        , 7.        , 9.89949494, 4.47213595, 0.        ]])"
      ]
     },
     "metadata": {},
     "execution_count": 12
    }
   ],
   "source": [
    "distances"
   ]
  },
  {
   "cell_type": "code",
   "execution_count": 13,
   "metadata": {},
   "outputs": [
    {
     "output_type": "execute_result",
     "data": {
      "text/plain": [
       "array([[ True, False, False, False, False],\n",
       "       [False,  True, False, False, False],\n",
       "       [False, False,  True, False, False],\n",
       "       [False, False, False,  True, False],\n",
       "       [False, False, False, False,  True]])"
      ]
     },
     "metadata": {},
     "execution_count": 13
    }
   ],
   "source": [
    "distances < distances.mean()*.1"
   ]
  },
  {
   "cell_type": "code",
   "execution_count": 16,
   "metadata": {},
   "outputs": [
    {
     "output_type": "execute_result",
     "data": {
      "text/plain": [
       "array([[[1., 0., 0., 0., 0.],\n",
       "        [0., 1., 0., 0., 0.],\n",
       "        [0., 0., 1., 0., 0.],\n",
       "        [0., 0., 0., 1., 0.],\n",
       "        [0., 0., 0., 0., 1.]]])"
      ]
     },
     "metadata": {},
     "execution_count": 16
    }
   ],
   "source": [
    "adjacency_matrix[0, \n",
    "                 0:distances.shape[0], \n",
    "                 0:distances.shape[1]] = distances < distances.mean()*0.01\n",
    "adjacency_matrix"
   ]
  },
  {
   "cell_type": "code",
   "execution_count": 17,
   "metadata": {},
   "outputs": [
    {
     "output_type": "execute_result",
     "data": {
      "text/plain": [
       "array([[[0., 0., 0., 0., 0.],\n",
       "        [0., 0., 0., 0., 0.],\n",
       "        [0., 0., 0., 0., 0.],\n",
       "        [0., 0., 0., 0., 0.],\n",
       "        [0., 0., 0., 0., 0.]]])"
      ]
     },
     "metadata": {},
     "execution_count": 17
    }
   ],
   "source": [
    "adjacency_matrix[0,\n",
    "                 0:distances.shape[0],\n",
    "                 0:distances.shape[1]] -= np.eye(distances.shape[0])\n",
    "adjacency_matrix"
   ]
  },
  {
   "cell_type": "code",
   "execution_count": 18,
   "metadata": {},
   "outputs": [
    {
     "output_type": "execute_result",
     "data": {
      "text/plain": [
       "0.0"
      ]
     },
     "metadata": {},
     "execution_count": 18
    }
   ],
   "source": [
    "np.sum(adjacency_matrix)"
   ]
  },
  {
   "cell_type": "code",
   "execution_count": 50,
   "metadata": {},
   "outputs": [
    {
     "output_type": "execute_result",
     "data": {
      "text/plain": [
       "9.899494936611665"
      ]
     },
     "metadata": {},
     "execution_count": 50
    }
   ],
   "source": [
    "distances.mean()*0.7"
   ]
  },
  {
   "cell_type": "code",
   "execution_count": null,
   "metadata": {},
   "outputs": [],
   "source": []
  },
  {
   "cell_type": "code",
   "execution_count": 13,
   "metadata": {},
   "outputs": [
    {
     "output_type": "execute_result",
     "data": {
      "text/plain": [
       "array([[0, 0],\n",
       "       [7, 7],\n",
       "       [7, 0],\n",
       "       [4, 5],\n",
       "       [0, 7]])"
      ]
     },
     "metadata": {},
     "execution_count": 13
    }
   ],
   "source": [
    "centroids"
   ]
  },
  {
   "cell_type": "code",
   "execution_count": 16,
   "metadata": {},
   "outputs": [
    {
     "output_type": "execute_result",
     "data": {
      "text/plain": [
       "(1, 5, 2)"
      ]
     },
     "metadata": {},
     "execution_count": 16
    }
   ],
   "source": [
    "centroid_matrix.shape"
   ]
  },
  {
   "cell_type": "code",
   "execution_count": 18,
   "metadata": {},
   "outputs": [
    {
     "output_type": "execute_result",
     "data": {
      "text/plain": [
       "array([[[0., 0.],\n",
       "        [7., 7.],\n",
       "        [7., 0.],\n",
       "        [4., 5.],\n",
       "        [0., 7.]]])"
      ]
     },
     "metadata": {},
     "execution_count": 18
    }
   ],
   "source": [
    "centroid_matrix[0, 0:centroids.shape[0], :] = centroids\n",
    "centroid_matrix"
   ]
  },
  {
   "cell_type": "code",
   "execution_count": 21,
   "metadata": {},
   "outputs": [
    {
     "output_type": "execute_result",
     "data": {
      "text/plain": [
       "array([ 1,  2,  5,  6, 10])"
      ]
     },
     "metadata": {},
     "execution_count": 21
    }
   ],
   "source": [
    "labels"
   ]
  },
  {
   "cell_type": "code",
   "execution_count": 22,
   "metadata": {},
   "outputs": [
    {
     "output_type": "execute_result",
     "data": {
      "text/plain": [
       "(1, 5)"
      ]
     },
     "metadata": {},
     "execution_count": 22
    }
   ],
   "source": [
    "label_matrix.shape"
   ]
  },
  {
   "cell_type": "code",
   "execution_count": 23,
   "metadata": {},
   "outputs": [
    {
     "output_type": "execute_result",
     "data": {
      "text/plain": [
       "array([[ 1.,  2.,  5.,  6., 10.]])"
      ]
     },
     "metadata": {},
     "execution_count": 23
    }
   ],
   "source": [
    "label_matrix[0, 0:labels.shape[0]] = labels\n",
    "label_matrix"
   ]
  },
  {
   "cell_type": "code",
   "execution_count": 24,
   "metadata": {},
   "outputs": [
    {
     "output_type": "execute_result",
     "data": {
      "text/plain": [
       "True"
      ]
     },
     "metadata": {},
     "execution_count": 24
    }
   ],
   "source": [
    "(true_labels == label_matrix).all()"
   ]
  },
  {
   "cell_type": "code",
   "execution_count": null,
   "metadata": {},
   "outputs": [],
   "source": []
  },
  {
   "cell_type": "code",
   "execution_count": 1,
   "metadata": {},
   "outputs": [],
   "source": [
    "%reload_ext autoreload\n",
    "%autoreload 2"
   ]
  },
  {
   "cell_type": "code",
   "execution_count": 2,
   "metadata": {},
   "outputs": [],
   "source": [
    "import numpy as np\n",
    "from skimage.measure import regionprops_table\n",
    "from deepcell import graph_utils"
   ]
  },
  {
   "cell_type": "code",
   "execution_count": 3,
   "metadata": {},
   "outputs": [],
   "source": [
    "y = [[2, 0, 1, 5, 3, 4, 0, 7],\n",
    "     [6, 8, 3, 0, 7, 6, 2, 1],\n",
    "     [6, 6, 5, 9, 5, 2, 2, 8],\n",
    "     [5, 0, 1, 8, 6, 8, 5, 4],\n",
    "     [7, 1, 0, 1, 1, 0, 0, 3],\n",
    "     [5, 6, 9, 6, 0, 6, 6, 7],\n",
    "     [8, 2, 0, 8, 4, 0, 5, 5],\n",
    "     [8, 6, 3, 7, 2, 4, 6, 7]]\n",
    "y = np.array(y)\n",
    "\n",
    "y = np.expand_dims(y,axis=0)\n",
    "y = np.expand_dims(y,axis=-1)"
   ]
  },
  {
   "cell_type": "code",
   "execution_count": 4,
   "metadata": {},
   "outputs": [
    {
     "output_type": "execute_result",
     "data": {
      "text/plain": [
       "(1, 8, 8, 1)"
      ]
     },
     "metadata": {},
     "execution_count": 4
    }
   ],
   "source": [
    "y.shape"
   ]
  },
  {
   "cell_type": "code",
   "execution_count": 5,
   "metadata": {},
   "outputs": [],
   "source": [
    "# create a test label image\n",
    "x = np.zeros((8, 8))\n",
    "x[0, 0] = 1\n",
    "x[7, 7] = 2\n",
    "x[7, 0] = 5\n",
    "x[4, 5] = 6\n",
    "x[0, 7] = 10\n",
    "\n",
    "# add a batch and a value dim\n",
    "# x dims are (batch, img_dim, img_dim, 1)\n",
    "x = np.expand_dims(x,axis=0)\n",
    "x = np.expand_dims(x,axis=-1).astype('int')"
   ]
  },
  {
   "cell_type": "code",
   "execution_count": 6,
   "metadata": {},
   "outputs": [
    {
     "output_type": "execute_result",
     "data": {
      "text/plain": [
       "(1, 8, 8, 1)"
      ]
     },
     "metadata": {},
     "execution_count": 6
    }
   ],
   "source": [
    "x.shape"
   ]
  },
  {
   "cell_type": "code",
   "execution_count": 7,
   "metadata": {},
   "outputs": [],
   "source": [
    "max_cells = graph_utils.get_max_cells(x)"
   ]
  },
  {
   "cell_type": "code",
   "execution_count": 8,
   "metadata": {},
   "outputs": [],
   "source": [
    "feature_matrix = np.zeros((y.shape[0], max_cells, y.shape[-1]))\n",
    "label_matrix = np.zeros((x.shape[0], max_cells))"
   ]
  },
  {
   "cell_type": "code",
   "execution_count": 9,
   "metadata": {},
   "outputs": [
    {
     "output_type": "execute_result",
     "data": {
      "text/plain": [
       "(8, 8)"
      ]
     },
     "metadata": {},
     "execution_count": 9
    }
   ],
   "source": [
    "label_image_batch = np.squeeze(x)\n",
    "label_image_batch.shape"
   ]
  },
  {
   "cell_type": "code",
   "execution_count": 10,
   "metadata": {},
   "outputs": [
    {
     "output_type": "execute_result",
     "data": {
      "text/plain": [
       "(8, 8, 1)"
      ]
     },
     "metadata": {},
     "execution_count": 10
    }
   ],
   "source": [
    "image_batch = y[0]\n",
    "image_batch.shape"
   ]
  },
  {
   "cell_type": "code",
   "execution_count": 11,
   "metadata": {},
   "outputs": [],
   "source": [
    "props = regionprops_table(label_image_batch,\n",
    "                          intensity_image=image_batch[..., 0],\n",
    "                          properties=['mean_intensity', 'label'])"
   ]
  },
  {
   "cell_type": "code",
   "execution_count": 20,
   "metadata": {},
   "outputs": [],
   "source": [
    "mean_intensity = props['mean_intensity']\n",
    "labels = props['label']"
   ]
  },
  {
   "cell_type": "code",
   "execution_count": 14,
   "metadata": {},
   "outputs": [
    {
     "output_type": "execute_result",
     "data": {
      "text/plain": [
       "array([2., 7., 8., 0., 7.])"
      ]
     },
     "metadata": {},
     "execution_count": 14
    }
   ],
   "source": [
    "mean_intensity"
   ]
  },
  {
   "cell_type": "code",
   "execution_count": 18,
   "metadata": {},
   "outputs": [
    {
     "output_type": "execute_result",
     "data": {
      "text/plain": [
       "array([[[2.],\n",
       "        [7.],\n",
       "        [8.],\n",
       "        [0.],\n",
       "        [7.]]])"
      ]
     },
     "metadata": {},
     "execution_count": 18
    }
   ],
   "source": [
    "feature_matrix[0, 0:mean_intensity.shape[0], 0] = mean_intensity\n",
    "feature_matrix"
   ]
  },
  {
   "cell_type": "code",
   "execution_count": 19,
   "metadata": {},
   "outputs": [
    {
     "output_type": "execute_result",
     "data": {
      "text/plain": [
       "(1, 5, 1)"
      ]
     },
     "metadata": {},
     "execution_count": 19
    }
   ],
   "source": [
    "feature_matrix.shape"
   ]
  },
  {
   "cell_type": "code",
   "execution_count": 21,
   "metadata": {},
   "outputs": [
    {
     "output_type": "execute_result",
     "data": {
      "text/plain": [
       "array([ 1,  2,  5,  6, 10])"
      ]
     },
     "metadata": {},
     "execution_count": 21
    }
   ],
   "source": [
    "labels"
   ]
  },
  {
   "cell_type": "code",
   "execution_count": 23,
   "metadata": {},
   "outputs": [
    {
     "output_type": "execute_result",
     "data": {
      "text/plain": [
       "array([[ 1.,  2.,  5.,  6., 10.]])"
      ]
     },
     "metadata": {},
     "execution_count": 23
    }
   ],
   "source": [
    "label_matrix[0, 0:labels.shape[0]] = labels\n",
    "label_matrix"
   ]
  },
  {
   "cell_type": "code",
   "execution_count": 24,
   "metadata": {},
   "outputs": [
    {
     "output_type": "execute_result",
     "data": {
      "text/plain": [
       "(1, 5)"
      ]
     },
     "metadata": {},
     "execution_count": 24
    }
   ],
   "source": [
    "label_matrix.shape"
   ]
  },
  {
   "cell_type": "code",
   "execution_count": 30,
   "metadata": {},
   "outputs": [],
   "source": [
    "(true_features == feature_matrix).all()"
   ]
  },
  {
   "cell_type": "code",
   "execution_count": 15,
   "metadata": {},
   "outputs": [],
   "source": [
    "x = np.zeros((8, 8))\n",
    "x[0, 0] = 1\n",
    "x[7, 7] = 2\n",
    "x[7, 0] = 5\n",
    "x[4, 5] = 6\n",
    "x[4, 4] = 6\n",
    "x[0, 7] = 10\n",
    "x[1, 7] = 10\n",
    "x[0, 6] = 10\n",
    "x[1, 6] = 10"
   ]
  },
  {
   "cell_type": "code",
   "execution_count": 16,
   "metadata": {},
   "outputs": [
    {
     "output_type": "execute_result",
     "data": {
      "text/plain": [
       "array([[ 1.,  0.,  0.,  0.,  0.,  0., 10., 10.],\n",
       "       [ 0.,  0.,  0.,  0.,  0.,  0., 10., 10.],\n",
       "       [ 0.,  0.,  0.,  0.,  0.,  0.,  0.,  0.],\n",
       "       [ 0.,  0.,  0.,  0.,  0.,  0.,  0.,  0.],\n",
       "       [ 0.,  0.,  0.,  0.,  6.,  6.,  0.,  0.],\n",
       "       [ 0.,  0.,  0.,  0.,  0.,  0.,  0.,  0.],\n",
       "       [ 0.,  0.,  0.,  0.,  0.,  0.,  0.,  0.],\n",
       "       [ 5.,  0.,  0.,  0.,  0.,  0.,  0.,  2.]])"
      ]
     },
     "metadata": {},
     "execution_count": 16
    }
   ],
   "source": [
    "x"
   ]
  },
  {
   "cell_type": "code",
   "execution_count": null,
   "metadata": {},
   "outputs": [],
   "source": []
  },
  {
   "cell_type": "code",
   "execution_count": 1,
   "metadata": {},
   "outputs": [],
   "source": [
    "%reload_ext autoreload\n",
    "%autoreload 2"
   ]
  },
  {
   "cell_type": "code",
   "execution_count": 2,
   "metadata": {},
   "outputs": [],
   "source": [
    "import numpy as np\n",
    "from skimage.measure import regionprops_table\n",
    "from deepcell import graph_utils\n",
    "\n",
    "from scipy.stats import mode"
   ]
  },
  {
   "cell_type": "code",
   "execution_count": 3,
   "metadata": {},
   "outputs": [],
   "source": [
    "y = [[2, 2, 0, 2, 1, 1, 1, 1],\n",
    "     [0, 2, 0, 0, 2, 1, 2, 1],\n",
    "     [1, 2, 1, 1, 2, 1, 2, 2],\n",
    "     [2, 1, 0, 1, 0, 0, 2, 2],\n",
    "     [0, 1, 0, 0, 0, 0, 2, 0],\n",
    "     [1, 0, 0, 0, 1, 0, 2, 1],\n",
    "     [0, 1, 0, 2, 2, 1, 0, 2],\n",
    "     [0, 0, 2, 2, 0, 1, 1, 2]]\n",
    "\n",
    "y = np.array(y)\n",
    "\n",
    "y = np.expand_dims(y,axis=0)\n",
    "y = np.expand_dims(y,axis=-1)"
   ]
  },
  {
   "cell_type": "code",
   "execution_count": 5,
   "metadata": {},
   "outputs": [
    {
     "output_type": "execute_result",
     "data": {
      "text/plain": [
       "(1, 8, 8, 1)"
      ]
     },
     "metadata": {},
     "execution_count": 5
    }
   ],
   "source": [
    "y.shape"
   ]
  },
  {
   "cell_type": "code",
   "execution_count": 4,
   "metadata": {},
   "outputs": [],
   "source": [
    "x = np.zeros((8, 8))\n",
    "x[0, 0] = 1\n",
    "x[7, 7] = 2\n",
    "x[7, 0] = 5\n",
    "x[4, 5] = 6\n",
    "x[4, 4] = 6\n",
    "x[0, 7] = 10\n",
    "x[1, 7] = 10\n",
    "x[0, 6] = 10\n",
    "x[1, 6] = 10\n",
    "\n",
    "# add a batch and a value dim\n",
    "# x dims are (batch, img_dim, img_dim, 1)\n",
    "x = np.expand_dims(x,axis=0)\n",
    "x = np.expand_dims(x,axis=-1).astype('int')"
   ]
  },
  {
   "cell_type": "code",
   "execution_count": 6,
   "metadata": {},
   "outputs": [
    {
     "output_type": "execute_result",
     "data": {
      "text/plain": [
       "(1, 8, 8, 1)"
      ]
     },
     "metadata": {},
     "execution_count": 6
    }
   ],
   "source": [
    "x.shape"
   ]
  },
  {
   "cell_type": "code",
   "execution_count": 7,
   "metadata": {},
   "outputs": [],
   "source": [
    "max_cells = graph_utils.get_max_cells(x)"
   ]
  },
  {
   "cell_type": "code",
   "execution_count": 9,
   "metadata": {},
   "outputs": [
    {
     "output_type": "execute_result",
     "data": {
      "text/plain": [
       "(1, 5)"
      ]
     },
     "metadata": {},
     "execution_count": 9
    }
   ],
   "source": [
    "celltype_matrix = np.zeros((x.shape[0], max_cells))\n",
    "celltype_matrix.shape"
   ]
  },
  {
   "cell_type": "code",
   "execution_count": 10,
   "metadata": {},
   "outputs": [],
   "source": [
    "label_image_batch = np.squeeze(x)\n",
    "celltype_image_batch = np.squeeze(y)"
   ]
  },
  {
   "cell_type": "code",
   "execution_count": 11,
   "metadata": {},
   "outputs": [
    {
     "output_type": "execute_result",
     "data": {
      "text/plain": [
       "((8, 8), (8, 8))"
      ]
     },
     "metadata": {},
     "execution_count": 11
    }
   ],
   "source": [
    "label_image_batch.shape, celltype_image_batch.shape"
   ]
  },
  {
   "cell_type": "code",
   "execution_count": 12,
   "metadata": {},
   "outputs": [],
   "source": [
    "props = regionprops_table(label_image_batch,\n",
    "                          properties=['coords', 'label'])"
   ]
  },
  {
   "cell_type": "code",
   "execution_count": 13,
   "metadata": {},
   "outputs": [],
   "source": [
    "for i in range(len(props['coords'])):\n",
    "    coords = props['coords'][i]\n",
    "    cell_type_list = celltype_image_batch[coords[:, 0], coords[:, 1]]\n",
    "    cell_type = mode(cell_type_list, axis=None).mode[0]\n",
    "    celltype_matrix[0, i] = cell_type"
   ]
  },
  {
   "cell_type": "code",
   "execution_count": 14,
   "metadata": {},
   "outputs": [
    {
     "output_type": "execute_result",
     "data": {
      "text/plain": [
       "array([[2., 2., 0., 0., 1.]])"
      ]
     },
     "metadata": {},
     "execution_count": 14
    }
   ],
   "source": [
    "celltype_matrix"
   ]
  },
  {
   "cell_type": "code",
   "execution_count": 33,
   "metadata": {},
   "outputs": [
    {
     "output_type": "stream",
     "name": "stdout",
     "text": [
      "[[0 0]]\n\n[[7 7]]\n\n[[7 0]]\n\n[[4 4]\n [4 5]]\n\n[[0 6]\n [0 7]\n [1 6]\n [1 7]]\n\n"
     ]
    }
   ],
   "source": [
    "for i in range(len(props['coords'])):\n",
    "    coords = props['coords'][i]\n",
    "    print(coords)\n",
    "    print()"
   ]
  },
  {
   "cell_type": "code",
   "execution_count": 36,
   "metadata": {},
   "outputs": [
    {
     "output_type": "execute_result",
     "data": {
      "text/plain": [
       "(array([0, 0, 1, 1]), array([6, 7, 6, 7]))"
      ]
     },
     "metadata": {},
     "execution_count": 36
    }
   ],
   "source": [
    "coords = props['coords'][4]\n",
    "coords[:,0], coords[:,1]"
   ]
  },
  {
   "cell_type": "code",
   "execution_count": 37,
   "metadata": {},
   "outputs": [
    {
     "output_type": "execute_result",
     "data": {
      "text/plain": [
       "array([1, 1, 2, 1])"
      ]
     },
     "metadata": {},
     "execution_count": 37
    }
   ],
   "source": [
    "celltype_image_batch[coords[:, 0], coords[:, 1]]"
   ]
  },
  {
   "cell_type": "code",
   "execution_count": 38,
   "metadata": {},
   "outputs": [],
   "source": [
    "true_celltypes = np.array([2., 2., 0., 0., 1.])"
   ]
  },
  {
   "cell_type": "code",
   "execution_count": 41,
   "metadata": {},
   "outputs": [],
   "source": [
    "x = np.zeros((8, 8))\n",
    "x[0, 0] = 1\n",
    "x[7, 7] = 2\n",
    "x[7, 0] = 5\n",
    "x[4, 5] = 6\n",
    "x[4, 4] = 6\n",
    "x[0, 7] = 10\n",
    "x[1, 7] = 10\n",
    "x[0, 6] = 10\n",
    "x[1, 6] = 10\n",
    "\n",
    "# add a batch and a value dim\n",
    "# x dims are (batch, img_dim, img_dim, 1)\n",
    "x = np.expand_dims(x,axis=0)\n",
    "x = np.expand_dims(x,axis=-1).astype('int')\n",
    "\n",
    "y = [[2, 2, 0, 2, 1, 1, 1, 1],\n",
    "    [0, 2, 0, 0, 2, 1, 2, 1],\n",
    "    [1, 2, 1, 1, 2, 1, 2, 2],\n",
    "    [2, 1, 0, 1, 0, 0, 2, 2],\n",
    "    [0, 1, 0, 0, 0, 0, 2, 0],\n",
    "    [1, 0, 0, 0, 1, 0, 2, 1],\n",
    "    [0, 1, 0, 2, 2, 1, 0, 2],\n",
    "    [0, 0, 2, 2, 0, 1, 1, 2]]\n",
    "\n",
    "y = np.array(y)\n",
    "\n",
    "y = np.expand_dims(y,axis=0)\n",
    "y = np.expand_dims(y,axis=-1)\n",
    "\n",
    "# true cell types\n",
    "true_celltypes = np.array([2., 2., 0., 0., 1.])\n",
    "\n",
    "celltype_matrix = graph_utils.get_celltypes(x, y)\n",
    "\n",
    "\n",
    "assert (true_celltypes == celltype_matrix).all()"
   ]
  },
  {
   "cell_type": "code",
   "execution_count": null,
   "metadata": {},
   "outputs": [],
   "source": []
  }
 ],
 "metadata": {
  "kernelspec": {
   "display_name": "Python 3",
   "language": "python",
   "name": "python3"
  }
 },
 "nbformat": 4,
 "nbformat_minor": 5
}