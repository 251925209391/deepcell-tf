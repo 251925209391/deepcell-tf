{
 "cells": [
  {
   "cell_type": "code",
   "execution_count": 1,
   "id": "violent-serial",
   "metadata": {},
   "outputs": [],
   "source": [
    "import numpy as np\n",
    "import tensorflow as tf\n",
    "\n",
    "import matplotlib.pyplot as plt\n",
    "\n",
    "\n",
    "\n",
    "pi = np.pi"
   ]
  },
  {
   "cell_type": "code",
   "execution_count": 2,
   "id": "monetary-mileage",
   "metadata": {},
   "outputs": [],
   "source": [
    "AUTOTUNE = tf.data.experimental.AUTOTUNE\n",
    "\n",
    "class PointShapes:\n",
    "    \n",
    "    def __init__(self, \n",
    "                 num_points,\n",
    "                 create_adj=False,\n",
    "                 radius=1, \n",
    "                 batch_size=1):\n",
    "        super(PointShapes, self).__init__()\n",
    "        \n",
    "        self.num_points = num_points\n",
    "        assert self.num_points%4 == 0, \"Num Points needs to be divisible by 4\"\n",
    "        \n",
    "        self.radius = radius\n",
    "        self.batch_size = batch_size\n",
    "        self.create_adj = create_adj\n",
    "        \n",
    "        # generate dataset\n",
    "        self.tf_dataset()\n",
    "        \n",
    "        self.training_dataset = self.dataset.shuffle(256).repeat().map(self.augment).batch(self.batch_size).prefetch(AUTOTUNE)\n",
    "        \n",
    "    def create_circle(self):\n",
    "        n = self.num_points\n",
    "        xy = [(self.radius*np.cos(x*2*pi/n), (self.radius*np.sin(x*2*pi/n))) for x in range(n)]\n",
    "        \n",
    "        return np.array(xy)\n",
    "    \n",
    "    def create_square(self):\n",
    "        n = self.num_points//4 \n",
    "        missing_points = self.num_points - n*4\n",
    "        \n",
    "        xy = [(self.radius*np.cos(x*2*pi/4 + pi/4), (self.radius*np.sin(x*2*pi/4 + pi/4))) for x in range(4)]\n",
    "        square = np.concatenate([np.linspace(xy[i],xy[(i+1)%4],n) for i in range(4)])\n",
    "        \n",
    "        return square\n",
    "    \n",
    "    def rot_mat(self, data):\n",
    "        \"\"\"apply 2D roation\"\"\"\n",
    "        assert data.shape[-1] == 2, 'data is not 2D'\n",
    "        theta = np.radians(np.random.randint(0,360))\n",
    "        rot = np.array([[np.cos(theta), -np.sin(theta)],\n",
    "                        [np.sin(theta), np.cos(theta)]])\n",
    "        \n",
    "        return tf.matmul(data,rot)\n",
    "    \n",
    "    def trans_mat(self, data):\n",
    "        \"\"\"apply 2D translation\"\"\"\n",
    "        assert data.shape[-1] == 2, 'data is not 2D'\n",
    "        t = np.random.randint(-5,5)\n",
    "        \n",
    "        return data + np.array([[t,t]])\n",
    "    \n",
    "    def ref_mat(self, data):\n",
    "        \"\"\"apply 2D reflection\"\"\"\n",
    "        assert data.shape[-1] ==2, 'data is not 2D'\n",
    "        theta = np.radians(np.random.randint(0,360))\n",
    "        ref = np.array([[np.cos(2*theta), np.sin(2*theta)],\n",
    "                        [np.sin(2*theta), -np.cos(2*theta)]])\n",
    "        return tf.matmul(data,ref)\n",
    "    \n",
    "    def shapeGenerator(self):\n",
    "        coords_list = [self.create_circle(), self.create_square()]\n",
    "        labels = ['circle', 'square']\n",
    "        label_list = [[0,1], [1,0]]\n",
    "\n",
    "        coords = tf.stack(coords_list, axis=0)\n",
    "        ids = tf.stack(label_list, axis=0)\n",
    "\n",
    "        return coords, labels, ids\n",
    "\n",
    "    def tf_dataset(self):\n",
    "        coords, labels, ids = self.shapeGenerator()\n",
    "\n",
    "        features = tf.ones((2, self.num_points, 1))\n",
    "        \n",
    "        if self.create_adj:\n",
    "            adj = coord_to_adj(coords)\n",
    "            binary_adj = adj_to_binary(adj)\n",
    "            \n",
    "            dataset = tf.data.Dataset.from_tensor_slices(\n",
    "                ({'adj': binary_adj,\n",
    "                  'coords': coords,\n",
    "                  'features': features},\n",
    "                 {'labels': ids}))\n",
    "        else:\n",
    "            dataset = tf.data.Dataset.from_tensor_slices(\n",
    "                ({'coords':coords,\n",
    "                  'features': features},\n",
    "                 {'labels': ids}))\n",
    "        \n",
    "        self.dataset = dataset\n",
    "        \n",
    "    def augment(self, *args):\n",
    "        X_data = args[0]\n",
    "        y_data = args[1]\n",
    "\n",
    "        X = X_data['coords']\n",
    "\n",
    "        X = self.rot_mat(X)\n",
    "        X = self.trans_mat(X)\n",
    "        X = self.ref_mat(X)\n",
    "\n",
    "        X_data['coords'] = X\n",
    "\n",
    "        return (X_data, y_data)"
   ]
  },
  {
   "cell_type": "code",
   "execution_count": 3,
   "id": "minute-immigration",
   "metadata": {},
   "outputs": [
    {
     "data": {
      "image/png": "[encoded data removed]",
      "text/plain": [
       "<Figure size 360x1440 with 4 Axes>"
      ]
     },
     "metadata": {
      "needs_background": "light"
     },
     "output_type": "display_data"
    }
   ],
   "source": [
    "fig, axes = plt.subplots(4,1,figsize=(5, 20))\n",
    "ps = PointShapes(16, radius=1, batch_size=1)\n",
    "it = iter(ps.dataset.repeat().batch(1))\n",
    "for i in range(4):\n",
    "    X_data, y_data = next(it)\n",
    "    X = X_data['coords']\n",
    "    y = y_data['labels']\n",
    "    axes[i].scatter(X[0,...,0], X[0,...,1])\n",
    "    axes[i].set_title(str(y[0]))"
   ]
  },
  {
   "cell_type": "code",
   "execution_count": 4,
   "id": "modified-isolation",
   "metadata": {},
   "outputs": [],
   "source": [
    "shape = PointShapes(100)"
   ]
  },
  {
   "cell_type": "code",
   "execution_count": 5,
   "id": "fitted-collective",
   "metadata": {},
   "outputs": [
    {
     "data": {
      "text/plain": [
       "<matplotlib.collections.PathCollection at 0x7f07e003bda0>"
      ]
     },
     "execution_count": 5,
     "metadata": {},
     "output_type": "execute_result"
    },
    {
     "data": {
      "image/png": "[encoded data removed]",
      "text/plain": [
       "<Figure size 432x288 with 1 Axes>"
      ]
     },
     "metadata": {
      "needs_background": "light"
     },
     "output_type": "display_data"
    }
   ],
   "source": [
    "data = next(shape.training_dataset.as_numpy_iterator())[0]['coords']\n",
    "sdata = np.squeeze(data)\n",
    "x,y = zip(*sdata)\n",
    "plt.scatter(x,y)"
   ]
  },
  {
   "cell_type": "code",
   "execution_count": 6,
   "id": "distributed-vault",
   "metadata": {},
   "outputs": [],
   "source": [
    "\n",
    "from tensorflow.keras import Model, Input\n",
    "from tensorflow.keras.utils import plot_model, to_categorical\n",
    "from tensorflow.keras.optimizers import Adam\n",
    "from tensorflow.keras.layers import Layer, Activation, Dense, Softmax\n",
    "from tensorflow.keras.layers import BatchNormalization, Flatten, Lambda\n",
    "\n",
    "class PointConvolution(Layer):\n",
    "    def __init__(self, \n",
    "                 output_dim=64,\n",
    "                 **kwargs):\n",
    "        super(PointConvolution, self).__init__(**kwargs)\n",
    "        \n",
    "        self.output_dim = output_dim\n",
    "\n",
    "        # Define radial layers\n",
    "        radial_dict = {}\n",
    "        radial_dict['dense_0'] = Dense(self.output_dim)\n",
    "        radial_dict['bn_0'] = BatchNormalization(axis=-1)\n",
    "        radial_dict['dense_1'] = Dense(self.output_dim)\n",
    "        radial_dict['bn_1'] = BatchNormalization(axis=-1)\n",
    "        radial_dict['dense_2'] = Dense(1)\n",
    "        self.radial_dict = radial_dict\n",
    "\n",
    "        # Define features layers\n",
    "        feature_dict = {}\n",
    "        feature_dict['dense_0'] = Dense(self.output_dim)\n",
    "        feature_dict['bn_0'] = BatchNormalization(axis=-1)\n",
    "        feature_dict['dense_1'] = Dense(self.output_dim)\n",
    "        feature_dict['bn_1'] = BatchNormalization(axis=-1)\n",
    "        self.feature_dict = feature_dict\n",
    "        \n",
    "    def _l2_norm(self, r):\n",
    "        \"\"\"\n",
    "        Compute L2 norm of a coordinate vector\n",
    "        r - (batch, points, 2)\n",
    "        \"\"\"\n",
    "        x = r[...,0]\n",
    "        y = r[...,1]\n",
    "        \n",
    "        output = tf.sqrt(x**2 + y**2)\n",
    "        \n",
    "        return output\n",
    "    \n",
    "    \n",
    "    def _cdist(self, r):\n",
    "        \"\"\"\n",
    "        Compute all pairwise distances\n",
    "        r - (batch, points, 2)\n",
    "        \"\"\"\n",
    "        r_0 = tf.expand_dims(r, axis=2)\n",
    "        multiples = [1,1, tf.shape(r)[1], 1]\n",
    "        r_0 = tf.tile(r_0, multiples)\n",
    "        \n",
    "        r_1 = tf.expand_dims(r, axis=1)\n",
    "        multiples = [1, tf.shape(r)[1], 1, 1]\n",
    "        r_1 = tf.tile(r_1, multiples)\n",
    "        \n",
    "        output = r_0 - r_1\n",
    "        return output\n",
    "    \n",
    "    def call(self, inputs):\n",
    "        # Get inputs\n",
    "        # inputs[0] - coordinates - (batch, points, 2)\n",
    "        # inputs[1] - fetaures - (batch, points, channels)\n",
    "        \n",
    "        r = inputs[0]\n",
    "        x = inputs[1]\n",
    "        \n",
    "        # Compute the coordinate component\n",
    "        r_ij = self._cdist(r) # (batch, points, points, 2)\n",
    "        r_ij = self._l2_norm(r_ij) # (batch, points, points)\n",
    "        r_ij = tf.expand_dims(r_ij, axis=-1) # (batch, points, points, 1)\n",
    "        \n",
    "        radial = self.radial_dict\n",
    "        R = radial['dense_0'](r_ij) # (batch, points, points, 64)\n",
    "#         R = radial['bn_0'](R)\n",
    "        R = Activation('relu')(R)\n",
    "        R = radial['dense_1'](R)\n",
    "#         R = radial['bn_1'](R)\n",
    "        R = Activation('relu')(R)\n",
    "        R = radial['dense_2'](R) # (batch, points, points, 1)\n",
    "        R = tf.squeeze(R, axis=-1)\n",
    "        \n",
    "        # Compute the feature component\n",
    "        feature = self.feature_dict\n",
    "        X = feature['dense_0'](x) # (batch, points, c)\n",
    "#         X = feature['bn_0'](X)\n",
    "        X = Activation('relu')(X)\n",
    "        X = feature['dense_1'](X)\n",
    "        # X = Activation('relu')(X)\n",
    "#         X = feature['bn_1'](X) # (batch, points, 64)\n",
    "        # Perform point convolution\n",
    "        output = tf.matmul(R, X)\n",
    "        \n",
    "        return output"
   ]
  },
  {
   "cell_type": "code",
   "execution_count": 7,
   "id": "naked-institute",
   "metadata": {},
   "outputs": [],
   "source": [
    "NUM_POINTS = 100\n",
    "def point_model():\n",
    "    r = Input(shape= (NUM_POINTS,2),name='coords')\n",
    "    x = Input(shape= (NUM_POINTS,1),name='features')\n",
    "    inputs = (r,x)\n",
    "    \n",
    "    x = PointConvolution()(inputs)\n",
    "    x = Activation('relu')(x)\n",
    "    \n",
    "    x = tf.keras.layers.Flatten()(x)\n",
    "    x = Dense(2)(x)\n",
    "    x = Softmax(axis=-1, name='labels')(x)\n",
    "    \n",
    "    return Model(inputs=inputs, outputs=x)"
   ]
  },
  {
   "cell_type": "code",
   "execution_count": 8,
   "id": "sticky-leeds",
   "metadata": {},
   "outputs": [
    {
     "data": {
      "image/png": "[encoded data removed]",
      "text/plain": [
       "<IPython.core.display.Image object>"
      ]
     },
     "execution_count": 8,
     "metadata": {},
     "output_type": "execute_result"
    }
   ],
   "source": [
    "model = point_model()\n",
    "plot_model(model, show_shapes=True)"
   ]
  },
  {
   "cell_type": "code",
   "execution_count": 9,
   "id": "willing-collective",
   "metadata": {},
   "outputs": [],
   "source": [
    "optimizer = Adam(learning_rate=1e-3)\n",
    "losses = {'labels': tf.keras.losses.categorical_crossentropy}\n",
    "metrics = {'labels': ['accuracy']}\n",
    "model.compile(optimizer=optimizer, loss=losses, metrics=metrics)"
   ]
  },
  {
   "cell_type": "code",
   "execution_count": 10,
   "id": "naughty-gardening",
   "metadata": {},
   "outputs": [
    {
     "name": "stdout",
     "output_type": "stream",
     "text": [
      "Epoch 1/10\n",
      "128/128 [==============================] - 2s 5ms/step - loss: 1.4617 - accuracy: 0.3708\n",
      "Epoch 2/10\n",
      "128/128 [==============================] - 1s 6ms/step - loss: 0.4676 - accuracy: 0.7991\n",
      "Epoch 3/10\n",
      "128/128 [==============================] - 1s 6ms/step - loss: 0.0020 - accuracy: 1.0000\n",
      "Epoch 4/10\n",
      "128/128 [==============================] - 1s 6ms/step - loss: 6.6316e-04 - accuracy: 1.0000\n",
      "Epoch 5/10\n",
      "128/128 [==============================] - 1s 6ms/step - loss: 3.5459e-04 - accuracy: 1.0000\n",
      "Epoch 6/10\n",
      "128/128 [==============================] - 1s 6ms/step - loss: 2.2321e-04 - accuracy: 1.0000\n",
      "Epoch 7/10\n",
      "128/128 [==============================] - 1s 6ms/step - loss: 1.5244e-04 - accuracy: 1.0000\n",
      "Epoch 8/10\n",
      "128/128 [==============================] - 1s 6ms/step - loss: 1.1202e-04 - accuracy: 1.0000\n",
      "Epoch 9/10\n",
      "128/128 [==============================] - 1s 6ms/step - loss: 8.4344e-05 - accuracy: 1.0000\n",
      "Epoch 10/10\n",
      "128/128 [==============================] - 1s 6ms/step - loss: 6.6173e-05 - accuracy: 1.0000\n"
     ]
    },
    {
     "data": {
      "text/plain": [
       "<tensorflow.python.keras.callbacks.History at 0x7f077c360358>"
      ]
     },
     "execution_count": 10,
     "metadata": {},
     "output_type": "execute_result"
    }
   ],
   "source": [
    "model.fit(PointShapes(NUM_POINTS).training_dataset,\n",
    "          epochs=10,\n",
    "          steps_per_epoch=128,\n",
    "          batch_size=1)"
   ]
  },
  {
   "cell_type": "code",
   "execution_count": 11,
   "id": "limiting-example",
   "metadata": {
    "scrolled": true
   },
   "outputs": [
    {
     "name": "stdout",
     "output_type": "stream",
     "text": [
      "tf.Tensor([[0 1]], shape=(1, 2), dtype=int32)\n",
      "[[7.466958e-05 9.999254e-01]]\n",
      "\n",
      "tf.Tensor([[1 0]], shape=(1, 2), dtype=int32)\n",
      "[[9.9996340e-01 3.6548106e-05]]\n",
      "\n",
      "tf.Tensor([[0 1]], shape=(1, 2), dtype=int32)\n",
      "[[7.466958e-05 9.999254e-01]]\n",
      "\n",
      "tf.Tensor([[1 0]], shape=(1, 2), dtype=int32)\n",
      "[[9.9996340e-01 3.6548106e-05]]\n",
      "\n",
      "tf.Tensor([[1 0]], shape=(1, 2), dtype=int32)\n",
      "[[9.9996340e-01 3.6548106e-05]]\n",
      "\n",
      "tf.Tensor([[0 1]], shape=(1, 2), dtype=int32)\n",
      "[[7.466958e-05 9.999254e-01]]\n",
      "\n",
      "tf.Tensor([[1 0]], shape=(1, 2), dtype=int32)\n",
      "[[9.9996340e-01 3.6548106e-05]]\n",
      "\n",
      "tf.Tensor([[0 1]], shape=(1, 2), dtype=int32)\n",
      "[[7.466958e-05 9.999254e-01]]\n",
      "\n",
      "tf.Tensor([[1 0]], shape=(1, 2), dtype=int32)\n",
      "[[9.9996340e-01 3.6548106e-05]]\n",
      "\n",
      "tf.Tensor([[0 1]], shape=(1, 2), dtype=int32)\n",
      "[[7.466958e-05 9.999254e-01]]\n",
      "\n",
      "tf.Tensor([[0 1]], shape=(1, 2), dtype=int32)\n",
      "[[7.466958e-05 9.999254e-01]]\n",
      "\n",
      "tf.Tensor([[1 0]], shape=(1, 2), dtype=int32)\n",
      "[[9.9996340e-01 3.6548106e-05]]\n",
      "\n",
      "tf.Tensor([[0 1]], shape=(1, 2), dtype=int32)\n",
      "[[7.466958e-05 9.999254e-01]]\n",
      "\n",
      "tf.Tensor([[1 0]], shape=(1, 2), dtype=int32)\n",
      "[[9.9996340e-01 3.6548106e-05]]\n",
      "\n",
      "tf.Tensor([[1 0]], shape=(1, 2), dtype=int32)\n",
      "[[9.9996340e-01 3.6548106e-05]]\n",
      "\n",
      "tf.Tensor([[0 1]], shape=(1, 2), dtype=int32)\n",
      "[[7.466958e-05 9.999254e-01]]\n",
      "\n"
     ]
    }
   ],
   "source": [
    "it = iter(PointShapes(NUM_POINTS).training_dataset)\n",
    "\n",
    "for i in range(16):\n",
    "    X_data, y_data = next(it)\n",
    "    print(y_data['labels'])\n",
    "    print(model.predict(X_data))\n",
    "    print()"
   ]
  },
  {
   "cell_type": "code",
   "execution_count": null,
   "id": "conscious-neutral",
   "metadata": {},
   "outputs": [],
   "source": []
  },
  {
   "cell_type": "code",
   "execution_count": null,
   "id": "later-pulse",
   "metadata": {},
   "outputs": [],
   "source": []
  },
  {
   "cell_type": "code",
   "execution_count": null,
   "id": "blind-liabilities",
   "metadata": {},
   "outputs": [],
   "source": []
  },
  {
   "cell_type": "code",
   "execution_count": 12,
   "id": "active-patch",
   "metadata": {},
   "outputs": [],
   "source": [
    "def coord_to_adj(point_coords):\n",
    "    \"\"\"\n",
    "    takes a list of points and outputs an dist matrix between points\n",
    "    \n",
    "    input: ndarray or tf.Tensor of shape (batch, n_points, 2)\n",
    "    output: tf.Tensor shape (batch, n_points, n_points)\n",
    "    \"\"\"\n",
    "    \n",
    "    r_0 = tf.expand_dims(point_coords, axis=2)\n",
    "    multiples = [1,1, tf.shape(point_coords)[1], 1]\n",
    "    r_0 = tf.tile(r_0, multiples)\n",
    "\n",
    "    r_1 = tf.expand_dims(point_coords, axis=1)\n",
    "    multiples = [1, tf.shape(point_coords)[1], 1, 1]\n",
    "    r_1 = tf.tile(r_1, multiples)\n",
    "\n",
    "    output = tf.cast(r_0 - r_1, tf.float32)\n",
    "\n",
    "    x = output[...,0]\n",
    "    y = output[...,1]\n",
    "\n",
    "    dist = tf.sqrt(tf.square(x) + tf.square(y))\n",
    "\n",
    "    return dist"
   ]
  },
  {
   "cell_type": "code",
   "execution_count": 13,
   "id": "twelve-baker",
   "metadata": {},
   "outputs": [],
   "source": [
    "def adj_to_binary(adj_mat, threshold=1.):\n",
    "    \"\"\"\n",
    "    threshold is what percent of the mean distance do you want to consider a neighboor\n",
    "    \"\"\"\n",
    "    \n",
    "    mean_dist = tf.reduce_mean(adj_mat)\n",
    "    cutoff = threshold*mean_dist\n",
    "    \n",
    "    return tf.cast(adj_mat > cutoff, tf.float32)"
   ]
  },
  {
   "cell_type": "code",
   "execution_count": null,
   "id": "juvenile-indonesian",
   "metadata": {},
   "outputs": [],
   "source": []
  },
  {
   "cell_type": "code",
   "execution_count": null,
   "id": "catholic-macro",
   "metadata": {},
   "outputs": [],
   "source": []
  },
  {
   "cell_type": "markdown",
   "id": "confident-treasurer",
   "metadata": {},
   "source": [
    "## Test GAT"
   ]
  },
  {
   "cell_type": "code",
   "execution_count": 14,
   "id": "eleven-project",
   "metadata": {},
   "outputs": [],
   "source": [
    "N = NUM_POINTS = 16\n",
    "\n",
    "it = iter(PointShapes(NUM_POINTS, create_adj=True).training_dataset)"
   ]
  },
  {
   "cell_type": "code",
   "execution_count": 15,
   "id": "differential-geology",
   "metadata": {},
   "outputs": [
    {
     "name": "stdout",
     "output_type": "stream",
     "text": [
      "tf.Tensor(\n",
      "[[[0. 0. 0. 0. 1. 1. 1. 1. 1. 1. 1. 1. 1. 0. 0. 0.]\n",
      "  [0. 0. 0. 0. 0. 1. 1. 1. 1. 1. 1. 1. 1. 1. 0. 0.]\n",
      "  [0. 0. 0. 0. 0. 0. 1. 1. 1. 1. 1. 1. 1. 1. 1. 0.]\n",
      "  [0. 0. 0. 0. 0. 0. 0. 1. 1. 1. 1. 1. 1. 1. 1. 1.]\n",
      "  [1. 0. 0. 0. 0. 0. 0. 0. 1. 1. 1. 1. 1. 1. 1. 1.]\n",
      "  [1. 1. 0. 0. 0. 0. 0. 0. 0. 1. 1. 1. 1. 1. 1. 1.]\n",
      "  [1. 1. 1. 0. 0. 0. 0. 0. 0. 0. 1. 1. 1. 1. 1. 1.]\n",
      "  [1. 1. 1. 1. 0. 0. 0. 0. 0. 0. 0. 1. 1. 1. 1. 1.]\n",
      "  [1. 1. 1. 1. 1. 0. 0. 0. 0. 0. 0. 0. 1. 1. 1. 1.]\n",
      "  [1. 1. 1. 1. 1. 1. 0. 0. 0. 0. 0. 0. 0. 1. 1. 1.]\n",
      "  [1. 1. 1. 1. 1. 1. 1. 0. 0. 0. 0. 0. 0. 0. 1. 1.]\n",
      "  [1. 1. 1. 1. 1. 1. 1. 1. 0. 0. 0. 0. 0. 0. 0. 1.]\n",
      "  [1. 1. 1. 1. 1. 1. 1. 1. 1. 0. 0. 0. 0. 0. 0. 0.]\n",
      "  [0. 1. 1. 1. 1. 1. 1. 1. 1. 1. 0. 0. 0. 0. 0. 0.]\n",
      "  [0. 0. 1. 1. 1. 1. 1. 1. 1. 1. 1. 0. 0. 0. 0. 0.]\n",
      "  [0. 0. 0. 1. 1. 1. 1. 1. 1. 1. 1. 1. 0. 0. 0. 0.]]], shape=(1, 16, 16), dtype=float32)\n"
     ]
    },
    {
     "data": {
      "text/plain": [
       "<matplotlib.collections.PathCollection at 0x7f09535d0828>"
      ]
     },
     "execution_count": 15,
     "metadata": {},
     "output_type": "execute_result"
    },
    {
     "data": {
      "image/png": "[encoded data removed]",
      "text/plain": [
       "<Figure size 432x288 with 1 Axes>"
      ]
     },
     "metadata": {
      "needs_background": "light"
     },
     "output_type": "display_data"
    }
   ],
   "source": [
    "X_data, y_data = next(it)\n",
    "adj = X_data['adj']\n",
    "X = X_data['coords']\n",
    "y = y_data['labels']\n",
    "print(adj)\n",
    "plt.scatter(X[0,...,0], X[0,...,1])"
   ]
  },
  {
   "cell_type": "code",
   "execution_count": 16,
   "id": "bottom-edinburgh",
   "metadata": {},
   "outputs": [],
   "source": [
    "# Parameters\n",
    "channels = 8  # Number of channels in each head of the first GAT layer\n",
    "n_attn_heads = 8  # Number of attention heads in first GAT layer\n",
    "dropout = 0.6  # Dropout rate for the features and adjacency matrix\n",
    "l2_reg = 2.5e-4  # L2 regularization rate\n",
    "learning_rate = 5e-3  # Learning rate\n",
    "epochs = 20000  # Number of training epochs\n",
    "patience = 100  # Patience for early stopping"
   ]
  },
  {
   "cell_type": "code",
   "execution_count": 17,
   "id": "widespread-diversity",
   "metadata": {},
   "outputs": [
    {
     "name": "stdout",
     "output_type": "stream",
     "text": [
      "16 2 1\n"
     ]
    }
   ],
   "source": [
    "N = 16  # Number of nodes in the graph\n",
    "F = 2  # Original size of node features\n",
    "n_out = 1  # Number of classes\n",
    "\n",
    "print(N, F, n_out)"
   ]
  },
  {
   "cell_type": "code",
   "execution_count": 18,
   "id": "negative-treasure",
   "metadata": {},
   "outputs": [
    {
     "ename": "NameError",
     "evalue": "name 'Dropout' is not defined",
     "output_type": "error",
     "traceback": [
      "\u001b[0;31m---------------------------------------------------------------------------\u001b[0m",
      "\u001b[0;31mNameError\u001b[0m                                 Traceback (most recent call last)",
      "\u001b[0;32m<ipython-input-18-d1a8a75b4103>\u001b[0m in \u001b[0;36m<module>\u001b[0;34m\u001b[0m\n\u001b[1;32m      3\u001b[0m \u001b[0ma_in\u001b[0m \u001b[0;34m=\u001b[0m \u001b[0mInput\u001b[0m\u001b[0;34m(\u001b[0m\u001b[0;34m(\u001b[0m\u001b[0mN\u001b[0m\u001b[0;34m,\u001b[0m\u001b[0mN\u001b[0m\u001b[0;34m,\u001b[0m\u001b[0;34m)\u001b[0m\u001b[0;34m,\u001b[0m \u001b[0msparse\u001b[0m\u001b[0;34m=\u001b[0m\u001b[0;32mTrue\u001b[0m\u001b[0;34m,\u001b[0m \u001b[0mname\u001b[0m\u001b[0;34m=\u001b[0m\u001b[0;34m'adj'\u001b[0m\u001b[0;34m)\u001b[0m\u001b[0;34m\u001b[0m\u001b[0;34m\u001b[0m\u001b[0m\n\u001b[1;32m      4\u001b[0m \u001b[0;34m\u001b[0m\u001b[0m\n\u001b[0;32m----> 5\u001b[0;31m \u001b[0mdo_1\u001b[0m \u001b[0;34m=\u001b[0m \u001b[0mDropout\u001b[0m\u001b[0;34m(\u001b[0m\u001b[0mdropout\u001b[0m\u001b[0;34m)\u001b[0m\u001b[0;34m(\u001b[0m\u001b[0mx_in\u001b[0m\u001b[0;34m)\u001b[0m\u001b[0;34m\u001b[0m\u001b[0;34m\u001b[0m\u001b[0m\n\u001b[0m\u001b[1;32m      6\u001b[0m \u001b[0;34m\u001b[0m\u001b[0m\n\u001b[1;32m      7\u001b[0m gc_1 = GATConv(\n",
      "\u001b[0;31mNameError\u001b[0m: name 'Dropout' is not defined"
     ]
    }
   ],
   "source": [
    "\n",
    "# Model definition\n",
    "x_in = Input(shape=(N,F,), name='coords')\n",
    "a_in = Input((N,N,), sparse=True, name='adj')\n",
    "\n",
    "do_1 = Dropout(dropout)(x_in)\n",
    "\n",
    "gc_1 = GATConv(\n",
    "    channels,\n",
    "    attn_heads=n_attn_heads,\n",
    "    concat_heads=True,\n",
    "    dropout_rate=dropout,\n",
    "    activation=\"elu\",\n",
    "    kernel_regularizer=l2(l2_reg),\n",
    "    attn_kernel_regularizer=l2(l2_reg),\n",
    "    bias_regularizer=l2(l2_reg),\n",
    ")([do_1, a_in])\n",
    "\n",
    "do_2 = Dropout(dropout)(gc_1)\n",
    "\n",
    "gc_2 = GATConv(\n",
    "    channels,\n",
    "    attn_heads=1,\n",
    "    concat_heads=False,\n",
    "    dropout_rate=dropout,\n",
    "    activation=\"softmax\",\n",
    "    kernel_regularizer=l2(l2_reg),\n",
    "    attn_kernel_regularizer=l2(l2_reg),\n",
    "    bias_regularizer=l2(l2_reg),\n",
    ")([do_2, a_in])\n",
    "\n",
    "x = Flatten()(gc_2)\n",
    "x = Dense(2)(x)\n",
    "out = Softmax(axis=-1, name ='labels')(x)\n",
    "\n",
    "\n",
    "# Build model\n",
    "model = Model(inputs=[x_in, a_in], outputs=out)\n",
    "optimizer = Adam(lr=learning_rate)\n",
    "\n",
    "model.compile(\n",
    "    optimizer=optimizer,\n",
    "    loss=CategoricalCrossentropy(reduction=\"sum\"),\n",
    "    weighted_metrics=[\"acc\"],\n",
    ")\n",
    "model.summary()"
   ]
  },
  {
   "cell_type": "code",
   "execution_count": null,
   "id": "owned-equality",
   "metadata": {},
   "outputs": [],
   "source": [
    "plot_model(model, show_shapes=True)"
   ]
  },
  {
   "cell_type": "code",
   "execution_count": null,
   "id": "bibliographic-peter",
   "metadata": {},
   "outputs": [],
   "source": [
    "model.fit(PointShapes(NUM_POINTS, create_adj=True).training_dataset,\n",
    "          epochs=10,\n",
    "          steps_per_epoch=128,\n",
    "          batch_size=32)"
   ]
  },
  {
   "cell_type": "code",
   "execution_count": null,
   "id": "significant-justice",
   "metadata": {},
   "outputs": [],
   "source": []
  },
  {
   "cell_type": "code",
   "execution_count": null,
   "id": "resistant-complaint",
   "metadata": {},
   "outputs": [],
   "source": []
  },
  {
   "cell_type": "markdown",
   "id": "instrumental-particular",
   "metadata": {},
   "source": [
    "## EGNN"
   ]
  },
  {
   "cell_type": "code",
   "execution_count": null,
   "id": "little-pharmaceutical",
   "metadata": {},
   "outputs": [],
   "source": [
    "import einops\n",
    "einops.__version__"
   ]
  },
  {
   "cell_type": "code",
   "execution_count": null,
   "id": "forward-mexican",
   "metadata": {},
   "outputs": [],
   "source": []
  },
  {
   "cell_type": "code",
   "execution_count": null,
   "id": "numeric-injection",
   "metadata": {},
   "outputs": [],
   "source": [
    "!pip install einops"
   ]
  },
  {
   "cell_type": "code",
   "execution_count": null,
   "id": "incorporate-imaging",
   "metadata": {},
   "outputs": [],
   "source": []
  },
  {
   "cell_type": "code",
   "execution_count": null,
   "id": "italic-castle",
   "metadata": {},
   "outputs": [],
   "source": [
    "from tensorflow.keras import Model, Input\n",
    "from tensorflow.keras.utils import plot_model, to_categorical\n",
    "from tensorflow.keras.optimizers import Adam\n",
    "from tensorflow.keras.layers import Layer, Activation, Dense"
   ]
  },
  {
   "cell_type": "code",
   "execution_count": null,
   "id": "deluxe-cursor",
   "metadata": {},
   "outputs": [],
   "source": [
    "class egcl(Layer):\n",
    "    def __init__(self, dim, edge_dim=0, m_dim=16, **kwargs):\n",
    "        super(egcl, self).__init__(**kwargs)\n",
    "        \n",
    "        edge_input_dim = dim*2 + edge_dim + 1\n",
    "        \n",
    "        self.edge_func = tf.keras.Sequential([Dense(edge_input_dim*2),\n",
    "                                               Activation('swish'),\n",
    "                                               Dense(m_dim),\n",
    "                                               Activation('swish')\n",
    "                                              ])\n",
    "        \n",
    "        self.coord_func = tf.keras.Sequential([Dense(m_dim*4),\n",
    "                                               Activation('swish'),\n",
    "                                               Dense(1)\n",
    "                                              ])\n",
    "        \n",
    "        self.node_func = tf.keras.Sequential([Dense(dim*2),\n",
    "                                              Activation('swish'),\n",
    "                                              Dense(dim)\n",
    "                                             ])\n",
    "        \n",
    "        \n",
    "    def call(self, coords, feats, edges=None):\n",
    "        b, n, d = feats.shape\n",
    "        \n",
    "        rel_coords = rearrange(coords, 'b i d -> b i () d') - rearrange(coords, 'b  j d -> b () j d')\n",
    "#         print(rel_coords)\n",
    "        rel_dist = tf.reduce_sum((rel_coords ** 2), axis=-1, keepdims=True)\n",
    "        \n",
    "        feats_i = repeat(feats, 'b i d -> b i n d', n=n)\n",
    "        feats_j = repeat(feats, 'b j d -> b n j d', n=n)\n",
    "        \n",
    "        edge_input = tf.concat([feats_i, feats_j, rel_dist], axis=-1)\n",
    "        \n",
    "        print(edge_input.shape)\n",
    "        print(edges.shape)\n",
    "        \n",
    "        if edges is not None:\n",
    "            edges = tf.expand_dims(edges, axis=-1)\n",
    "            edge_input = tf.concat([edge_input, edges], axis=-1)\n",
    "        \n",
    "        m_ij = self.edge_func(edge_input)\n",
    "        \n",
    "        coord_weights = self.coord_func(m_ij)\n",
    "        coord_weights = rearrange(coord_weights, 'b i j () -> b i j')\n",
    "        \n",
    "        coords_out = tf.einsum('b i j, b i j c -> b i c', coord_weights, rel_coords) + coords\n",
    "        \n",
    "        m_i = tf.reduce_sum(m_ij, axis=-2)\n",
    "        \n",
    "        node_input = tf.concat([feats, m_i], axis=-1)\n",
    "        node_out = self.node_func(node_input) + feats\n",
    "        \n",
    "        return coords_out, node_out"
   ]
  },
  {
   "cell_type": "code",
   "execution_count": null,
   "id": "invisible-medicaid",
   "metadata": {},
   "outputs": [],
   "source": []
  },
  {
   "cell_type": "code",
   "execution_count": null,
   "id": "regular-narrative",
   "metadata": {},
   "outputs": [],
   "source": [
    "NUM_POINTS = 100\n",
    "def point_model():\n",
    "    r = Input(shape= (NUM_POINTS,2),name='coords')\n",
    "    x = Input(shape= (NUM_POINTS,1),name='features')\n",
    "    \n",
    "    \n",
    "    r, x = egcl(64)(r, x)\n",
    "    x = Activation('relu')(x)\n",
    "    \n",
    "    x = tf.keras.layers.Flatten()(x)\n",
    "    x = Dense(2)(x)\n",
    "    x = Softmax(axis=-1, name='labels')(x)\n",
    "    \n",
    "    return Model(inputs=inputs, outputs=x)"
   ]
  },
  {
   "cell_type": "code",
   "execution_count": null,
   "id": "excessive-overhead",
   "metadata": {},
   "outputs": [],
   "source": [
    "layer1 = egcl(1)\n",
    "layer2 = egcl(2)"
   ]
  },
  {
   "cell_type": "code",
   "execution_count": null,
   "id": "designed-vacation",
   "metadata": {},
   "outputs": [],
   "source": [
    "r = Input(shape= (NUM_POINTS,2),name='coords')\n",
    "x = Input(shape= (NUM_POINTS,1),name='features')\n",
    "inputs = (r,x)"
   ]
  },
  {
   "cell_type": "code",
   "execution_count": null,
   "id": "bacterial-pizza",
   "metadata": {},
   "outputs": [],
   "source": [
    "out = layer1(X_data['coords'], X_data['features'])"
   ]
  },
  {
   "cell_type": "code",
   "execution_count": null,
   "id": "placed-piece",
   "metadata": {
    "scrolled": true
   },
   "outputs": [],
   "source": [
    "out[0]"
   ]
  },
  {
   "cell_type": "code",
   "execution_count": null,
   "id": "apart-arrest",
   "metadata": {
    "scrolled": true
   },
   "outputs": [],
   "source": [
    "out[1]"
   ]
  },
  {
   "cell_type": "code",
   "execution_count": null,
   "id": "physical-stress",
   "metadata": {},
   "outputs": [],
   "source": []
  },
  {
   "cell_type": "code",
   "execution_count": null,
   "id": "stretch-ancient",
   "metadata": {},
   "outputs": [],
   "source": [
    "import networkx as nx"
   ]
  },
  {
   "cell_type": "code",
   "execution_count": null,
   "id": "mental-boating",
   "metadata": {},
   "outputs": [],
   "source": [
    "from networkx.generators.random_graphs import gnp_random_graph\n",
    "from networkx.linalg import graphmatrix"
   ]
  },
  {
   "cell_type": "code",
   "execution_count": null,
   "id": "studied-sailing",
   "metadata": {},
   "outputs": [],
   "source": [
    "def tf_dataset():\n",
    "    n_nodes = np.random.randint(7,17)\n",
    "    g = gnp_random_graph(n_nodes,.25,seed=42)\n",
    "    adj = nx.to_numpy_array(g)\n",
    "\n",
    "    adj = tf.expand_dims(adj, axis=0)\n",
    "    coords = tf.random.normal(shape=(1,n_nodes,8))\n",
    "\n",
    "    feats = tf.ones((1,n_nodes,1))\n",
    "\n",
    "    dataset = tf.data.Dataset.from_tensor_slices(\n",
    "        ({'adj': adj,\n",
    "          'coords': coords,\n",
    "          'feats': feats},\n",
    "         {'true_adj': adj}))\n",
    "\n",
    "    return dataset"
   ]
  },
  {
   "cell_type": "code",
   "execution_count": null,
   "id": "extensive-study",
   "metadata": {},
   "outputs": [],
   "source": [
    "tf_dataset().repeat().batch(1)"
   ]
  },
  {
   "cell_type": "code",
   "execution_count": null,
   "id": "fixed-breathing",
   "metadata": {},
   "outputs": [],
   "source": [
    "class decoder(Layer):\n",
    "    def __init__(self):\n",
    "        super(decoder, self).__init__()\n",
    "      \n",
    "        \n",
    "        def build(self, input_shape):\n",
    "            self.w = self.add_weight(shape=(int(input_shape[-1]),\n",
    "                                                input_shape[1]))\n",
    "            \n",
    "            self.b = self.add_weight(shape=(input_shape[1]))\n",
    "            \n",
    "        def call(self, inputs):\n",
    "            rel_coords = rearrange(inputs, 'b i d -> b i () d') - rearrange(inputs, 'b j d -> b () j d')\n",
    "            rel_dist = tf.reduce_sum((rel_coords ** 2), axis=-1, keepdims=True)\n",
    "            \n",
    "            decoded = tf.exp(tf.matmul(rel_dist, self.w) + self.b)\n",
    "            \n",
    "            return decoded\n",
    "                \n",
    "    \n",
    "    \n"
   ]
  },
  {
   "cell_type": "code",
   "execution_count": null,
   "id": "endless-optics",
   "metadata": {},
   "outputs": [],
   "source": [
    "\n",
    "def egnn_model():\n",
    "    adj = Input(shape=(n_nodes, n_nodes), name='adj')\n",
    "    coords = Input(shape=(n_nodes, 8), name='coords')\n",
    "    feats = Input(shape=(n_nodes,1), name='feats')\n",
    "    \n",
    "    x, h = egcl(64)(coords, feats, adj)\n",
    "    x, h = egcl(64)(x, h, adj)\n",
    "    \n",
    "    decoded = decoder()(x)\n",
    "    out = Activation('sigmoid', name='true_adj')(-decoded)\n",
    "    \n",
    "    return Model(inputs=[coords, feats, adj], outputs=out)"
   ]
  },
  {
   "cell_type": "code",
   "execution_count": null,
   "id": "narrow-manchester",
   "metadata": {},
   "outputs": [],
   "source": [
    "model = egnn_model()\n",
    "plot_model(model, show_shapes=True)"
   ]
  },
  {
   "cell_type": "code",
   "execution_count": null,
   "id": "sudden-custom",
   "metadata": {},
   "outputs": [],
   "source": []
  },
  {
   "cell_type": "code",
   "execution_count": null,
   "id": "outdoor-catalog",
   "metadata": {},
   "outputs": [],
   "source": []
  },
  {
   "cell_type": "code",
   "execution_count": null,
   "id": "incredible-phase",
   "metadata": {},
   "outputs": [],
   "source": []
  },
  {
   "cell_type": "code",
   "execution_count": null,
   "id": "broken-netscape",
   "metadata": {},
   "outputs": [],
   "source": []
  },
  {
   "cell_type": "code",
   "execution_count": null,
   "id": "refined-monroe",
   "metadata": {},
   "outputs": [],
   "source": [
    "n_nodes=14\n",
    "coords = tf.random.normal(shape=(1,n_nodes,16))\n",
    "coords = tf.repeat(coords, 100, axis=0)\n",
    "\n",
    "feats = tf.ones((100,n_nodes,1))\n",
    "\n",
    "graphs = []\n",
    "for i in range(100):\n",
    "    g = gnp_random_graph(n_nodes,.25,seed=None)\n",
    "    adj = nx.to_numpy_array(g)\n",
    "\n",
    "    graphs.append(adj)\n",
    "\n",
    "adj_data = tf.stack(graphs, axis=0)\n",
    "\n",
    "dataset = tf.data.Dataset.from_tensor_slices(\n",
    "        ({'adj': adj_data,\n",
    "          'coords': coords,\n",
    "          'feats': feats},\n",
    "         {'decoder': adj_data}))\n",
    "\n",
    "dataset"
   ]
  },
  {
   "cell_type": "code",
   "execution_count": null,
   "id": "cooked-cartoon",
   "metadata": {},
   "outputs": [],
   "source": [
    "feats = tf.reshape(tf.range(6), (2,3,1))\n",
    "feats"
   ]
  },
  {
   "cell_type": "code",
   "execution_count": null,
   "id": "fatal-service",
   "metadata": {},
   "outputs": [],
   "source": [
    "repeat(feats, 'b i d -> b i n d', n=3) "
   ]
  },
  {
   "cell_type": "code",
   "execution_count": null,
   "id": "complete-fifteen",
   "metadata": {},
   "outputs": [],
   "source": [
    "repeat(feats, 'b j d -> b n j d', n=3) "
   ]
  },
  {
   "cell_type": "code",
   "execution_count": null,
   "id": "burning-joyce",
   "metadata": {},
   "outputs": [],
   "source": [
    "tmp = tf.concat([repeat(feats, 'b i d -> b i n d', n=3) , repeat(feats, 'b j d -> b n j d', n=3) ], axis=-1)"
   ]
  },
  {
   "cell_type": "code",
   "execution_count": null,
   "id": "departmental-maker",
   "metadata": {},
   "outputs": [],
   "source": [
    "coords = tf.random.normal(shape=(1,3,4))\n",
    "coords = tf.repeat(coords, 2, axis=0)\n",
    "coords"
   ]
  },
  {
   "cell_type": "code",
   "execution_count": null,
   "id": "unexpected-proposition",
   "metadata": {},
   "outputs": [],
   "source": [
    "rel_coords = rearrange(coords, 'b i d -> b i () d') - rearrange(coords, 'b  j d -> b () j d')\n",
    "rel_coords"
   ]
  },
  {
   "cell_type": "code",
   "execution_count": null,
   "id": "waiting-driver",
   "metadata": {},
   "outputs": [],
   "source": [
    "rel_dist = tf.reduce_sum((rel_coords ** 2), axis=-1, keepdims=True)\n",
    "rel_dist"
   ]
  },
  {
   "cell_type": "code",
   "execution_count": null,
   "id": "medium-damages",
   "metadata": {},
   "outputs": [],
   "source": [
    "tmp"
   ]
  },
  {
   "cell_type": "code",
   "execution_count": null,
   "id": "searching-holder",
   "metadata": {},
   "outputs": [],
   "source": [
    "tmp = tf.concat([tf.cast(repeat(feats, 'b i d -> b i n d', n=3), 'float32'), \n",
    "           tf.cast(repeat(feats, 'b j d -> b n j d', n=3), 'float32'), \n",
    "           rel_dist], axis=-1)"
   ]
  },
  {
   "cell_type": "code",
   "execution_count": null,
   "id": "informed-attribute",
   "metadata": {},
   "outputs": [],
   "source": [
    "graphs = []\n",
    "for i in range(2):\n",
    "    g = gnp_random_graph(3,.25,seed=None)\n",
    "    adj = nx.to_numpy_array(g)\n",
    "\n",
    "    graphs.append(adj)\n",
    "\n",
    "adj_data = tf.stack(graphs, axis=0)"
   ]
  },
  {
   "cell_type": "code",
   "execution_count": null,
   "id": "current-guitar",
   "metadata": {},
   "outputs": [],
   "source": [
    "adj = tf.expand_dims(adj_data, axis=-1)\n",
    "adj"
   ]
  },
  {
   "cell_type": "code",
   "execution_count": null,
   "id": "whole-discount",
   "metadata": {},
   "outputs": [],
   "source": [
    "edge_input = tf.concat([tmp, tf.cast(adj, 'float32')], axis=-1)"
   ]
  },
  {
   "cell_type": "code",
   "execution_count": null,
   "id": "crude-organization",
   "metadata": {},
   "outputs": [],
   "source": [
    "edge_input"
   ]
  },
  {
   "cell_type": "code",
   "execution_count": null,
   "id": "nuclear-pricing",
   "metadata": {},
   "outputs": [],
   "source": [
    "tmp"
   ]
  },
  {
   "cell_type": "code",
   "execution_count": null,
   "id": "outer-manufacturer",
   "metadata": {},
   "outputs": [],
   "source": []
  }
 ],
 "metadata": {
  "kernelspec": {
   "display_name": "Python 3",
   "language": "python",
   "name": "python3"
  },
  "language_info": {
   "codemirror_mode": {
    "name": "ipython",
    "version": 3
   },
   "file_extension": ".py",
   "mimetype": "text/x-python",
   "name": "python",
   "nbconvert_exporter": "python",
   "pygments_lexer": "ipython3",
   "version": "3.6.9"
  }
 },
 "nbformat": 4,
 "nbformat_minor": 5
}
