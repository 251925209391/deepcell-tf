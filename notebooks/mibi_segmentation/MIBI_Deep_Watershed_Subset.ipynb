{
 "cells": [
  {
   "cell_type": "code",
   "execution_count": 1,
   "metadata": {},
   "outputs": [],
   "source": [
    "import os\n",
    "import errno\n",
    "import numpy as np \n",
    "import deepcell\n",
    "from deepcell_toolbox.multiplex_utils import multiplex_preprocess"
   ]
  },
  {
   "cell_type": "code",
   "execution_count": 2,
   "metadata": {},
   "outputs": [],
   "source": [
    "# create folder for this set of experiments\n",
    "experiment_folder = \"specialist_benchmarking/\"\n",
    "MODEL_DIR = os.path.join(\"/data/analyses\", experiment_folder)\n",
    "NPZ_DIR = '/data/npz_data/20201018_freeze/'\n",
    "LOG_DIR = '/data/logs'\n",
    "\n",
    "if not os.path.isdir(MODEL_DIR):\n",
    "    os.makedirs(MODEL_DIR)"
   ]
  },
  {
   "cell_type": "code",
   "execution_count": 3,
   "metadata": {},
   "outputs": [],
   "source": [
    "from deepcell.utils.data_utils import get_data\n",
    "from skimage.segmentation import relabel_sequential\n",
    "\n",
    "npz_name = \"20201018_multiplex_seed_2\"\n",
    "\n",
    "train_dict = np.load(NPZ_DIR + npz_name + \"_train_512x512.npz\")\n",
    "val_dict = np.load(NPZ_DIR + npz_name + \"_val_256x256.npz\")\n",
    "\n",
    "X_train, y_train = train_dict['X'], train_dict['y']\n",
    "train_tissue, train_platform = train_dict['tissue_list'], train_dict['platform_list']\n",
    "X_val, y_val = val_dict['X'], val_dict['y']\n",
    "val_tissue, val_platform = val_dict['tissue_list'], val_dict['platform_list']"
   ]
  },
  {
   "cell_type": "code",
   "execution_count": 4,
   "metadata": {},
   "outputs": [],
   "source": [
    "X_train = multiplex_preprocess(X_train)\n",
    "X_val = multiplex_preprocess(X_val)"
   ]
  },
  {
   "cell_type": "code",
   "execution_count": 5,
   "metadata": {},
   "outputs": [],
   "source": [
    "tissue_subset = True\n",
    "tissues = ['breast', 'gi', 'immune', 'pancreas', 'all']\n",
    "platforms = ['codex', 'cycif', 'mibi', 'vectra']\n",
    "\n",
    "if tissue_subset:\n",
    "    train_subset_list = train_tissue\n",
    "    val_subset_list = val_tissue\n",
    "    subsets = tissues\n",
    "else:\n",
    "    train_subset_list = train_platform\n",
    "    val_subset_list = val_platform\n",
    "    subsets = platforms"
   ]
  },
  {
   "cell_type": "code",
   "execution_count": null,
   "metadata": {},
   "outputs": [
    {
     "name": "stdout",
     "output_type": "stream",
     "text": [
      "Training model for breast\n"
     ]
    },
    {
     "name": "stderr",
     "output_type": "stream",
     "text": [
      "WARNING: Logging before flag parsing goes to stderr.\n",
      "W1021 16:49:45.777011 140110304642880 deprecation.py:506] From /usr/local/lib/python3.6/dist-packages/tensorflow/python/ops/init_ops.py:1251: calling VarianceScaling.__init__ (from tensorflow.python.ops.init_ops) with dtype is deprecated and will be removed in a future version.\n",
      "Instructions for updating:\n",
      "Call initializer instance with the dtype argument instead of passing it to the constructor\n"
     ]
    },
    {
     "name": "stdout",
     "output_type": "stream",
     "text": [
      "Downloading data from https://github.com/keras-team/keras-applications/releases/download/resnet/resnet50_weights_tf_dim_ordering_tf_kernels_notop.h5\n",
      "94773248/94765736 [==============================] - 3s 0us/step\n",
      "There are 413 images in the train subset and 558 in the val subset\n"
     ]
    },
    {
     "name": "stderr",
     "output_type": "stream",
     "text": [
      "W1021 16:50:19.032682 140110304642880 semantic.py:111] X data dtype is float32: this will increase memory use during preprocessing. Consider using a smaller dtype\n"
     ]
    },
    {
     "name": "stdout",
     "output_type": "stream",
     "text": [
      "Model name is 20201018_multiplex_seed_2_subset_100_breast\n"
     ]
    },
    {
     "name": "stderr",
     "output_type": "stream",
     "text": [
      "W1021 16:51:33.852712 140110304642880 semantic.py:111] X data dtype is float32: this will increase memory use during preprocessing. Consider using a smaller dtype\n"
     ]
    },
    {
     "name": "stdout",
     "output_type": "stream",
     "text": [
      "generators created\n",
      "Training on 1 GPUs.\n",
      "Epoch 1/100\n"
     ]
    },
    {
     "name": "stderr",
     "output_type": "stream",
     "text": [
      "W1021 16:52:01.232059 140110304642880 deprecation.py:323] From /usr/local/lib/python3.6/dist-packages/tensorflow/python/ops/math_grad.py:1250: add_dispatch_support.<locals>.wrapper (from tensorflow.python.ops.array_ops) is deprecated and will be removed in a future version.\n",
      "Instructions for updating:\n",
      "Use tf.where in 2.0, which has the same broadcast rule as np.where\n"
     ]
    },
    {
     "name": "stdout",
     "output_type": "stream",
     "text": [
      "\r",
      "  1/333 [..............................] - ETA: 2:25:46 - loss: 0.7585 - semantic_0_loss: 0.7446 - semantic_1_loss: 0.0139"
     ]
    },
    {
     "name": "stderr",
     "output_type": "stream",
     "text": [
      "W1021 16:52:27.636041 140110304642880 callbacks.py:257] Method (on_train_batch_end) is slow compared to the batch update (0.197108). Check your callbacks.\n"
     ]
    },
    {
     "name": "stdout",
     "output_type": "stream",
     "text": [
      "332/333 [============================>.] - ETA: 0s - loss: 0.0415 - semantic_0_loss: 0.0348 - semantic_1_loss: 0.0067\n",
      "Epoch 00001: val_loss improved from inf to 0.10044, saving model to /data/analyses/specialist_benchmarking/20201018_multiplex_seed_2_subset_100_breast.h5\n",
      "333/333 [==============================] - 139s 418ms/step - loss: 0.0414 - semantic_0_loss: 0.0347 - semantic_1_loss: 0.0067 - val_loss: 0.1004 - val_semantic_0_loss: 0.0459 - val_semantic_1_loss: 0.0546\n",
      "Epoch 2/100\n",
      "332/333 [============================>.] - ETA: 0s - loss: 0.0210 - semantic_0_loss: 0.0156 - semantic_1_loss: 0.0054\n",
      "Epoch 00002: val_loss improved from 0.10044 to 0.03123, saving model to /data/analyses/specialist_benchmarking/20201018_multiplex_seed_2_subset_100_breast.h5\n",
      "333/333 [==============================] - 78s 234ms/step - loss: 0.0210 - semantic_0_loss: 0.0156 - semantic_1_loss: 0.0054 - val_loss: 0.0312 - val_semantic_0_loss: 0.0211 - val_semantic_1_loss: 0.0102\n",
      "Epoch 3/100\n",
      "332/333 [============================>.] - ETA: 0s - loss: 0.0191 - semantic_0_loss: 0.0140 - semantic_1_loss: 0.0050\n",
      "Epoch 00003: val_loss improved from 0.03123 to 0.01907, saving model to /data/analyses/specialist_benchmarking/20201018_multiplex_seed_2_subset_100_breast.h5\n",
      "333/333 [==============================] - 79s 237ms/step - loss: 0.0191 - semantic_0_loss: 0.0140 - semantic_1_loss: 0.0050 - val_loss: 0.0191 - val_semantic_0_loss: 0.0140 - val_semantic_1_loss: 0.0051\n",
      "Epoch 4/100\n",
      "332/333 [============================>.] - ETA: 0s - loss: 0.0181 - semantic_0_loss: 0.0132 - semantic_1_loss: 0.0049\n",
      "Epoch 00004: val_loss improved from 0.01907 to 0.01595, saving model to /data/analyses/specialist_benchmarking/20201018_multiplex_seed_2_subset_100_breast.h5\n",
      "333/333 [==============================] - 78s 233ms/step - loss: 0.0181 - semantic_0_loss: 0.0132 - semantic_1_loss: 0.0049 - val_loss: 0.0160 - val_semantic_0_loss: 0.0115 - val_semantic_1_loss: 0.0045\n",
      "Epoch 5/100\n",
      "332/333 [============================>.] - ETA: 0s - loss: 0.0173 - semantic_0_loss: 0.0125 - semantic_1_loss: 0.0047\n",
      "Epoch 00005: val_loss improved from 0.01595 to 0.01498, saving model to /data/analyses/specialist_benchmarking/20201018_multiplex_seed_2_subset_100_breast.h5\n",
      "333/333 [==============================] - 78s 234ms/step - loss: 0.0173 - semantic_0_loss: 0.0125 - semantic_1_loss: 0.0047 - val_loss: 0.0150 - val_semantic_0_loss: 0.0107 - val_semantic_1_loss: 0.0043\n",
      "Epoch 6/100\n",
      "332/333 [============================>.] - ETA: 0s - loss: 0.0166 - semantic_0_loss: 0.0120 - semantic_1_loss: 0.0046\n",
      "Epoch 00006: val_loss did not improve from 0.01498\n",
      "333/333 [==============================] - 74s 222ms/step - loss: 0.0167 - semantic_0_loss: 0.0120 - semantic_1_loss: 0.0046 - val_loss: 0.0150 - val_semantic_0_loss: 0.0107 - val_semantic_1_loss: 0.0043\n",
      "Epoch 7/100\n",
      "332/333 [============================>.] - ETA: 0s - loss: 0.0160 - semantic_0_loss: 0.0115 - semantic_1_loss: 0.0045\n",
      "Epoch 00007: val_loss improved from 0.01498 to 0.01430, saving model to /data/analyses/specialist_benchmarking/20201018_multiplex_seed_2_subset_100_breast.h5\n",
      "333/333 [==============================] - 76s 229ms/step - loss: 0.0160 - semantic_0_loss: 0.0115 - semantic_1_loss: 0.0045 - val_loss: 0.0143 - val_semantic_0_loss: 0.0100 - val_semantic_1_loss: 0.0043\n",
      "Epoch 8/100\n",
      "332/333 [============================>.] - ETA: 0s - loss: 0.0156 - semantic_0_loss: 0.0111 - semantic_1_loss: 0.0044\n",
      "Epoch 00008: val_loss did not improve from 0.01430\n",
      "333/333 [==============================] - 74s 221ms/step - loss: 0.0156 - semantic_0_loss: 0.0111 - semantic_1_loss: 0.0044 - val_loss: 0.0175 - val_semantic_0_loss: 0.0106 - val_semantic_1_loss: 0.0069\n",
      "Epoch 9/100\n",
      "332/333 [============================>.] - ETA: 0s - loss: 0.0153 - semantic_0_loss: 0.0108 - semantic_1_loss: 0.0044\n",
      "Epoch 00009: val_loss improved from 0.01430 to 0.01376, saving model to /data/analyses/specialist_benchmarking/20201018_multiplex_seed_2_subset_100_breast.h5\n",
      "333/333 [==============================] - 75s 225ms/step - loss: 0.0153 - semantic_0_loss: 0.0109 - semantic_1_loss: 0.0044 - val_loss: 0.0138 - val_semantic_0_loss: 0.0096 - val_semantic_1_loss: 0.0041\n",
      "Epoch 10/100\n",
      "332/333 [============================>.] - ETA: 0s - loss: 0.0149 - semantic_0_loss: 0.0105 - semantic_1_loss: 0.0043\n",
      "Epoch 00010: val_loss did not improve from 0.01376\n",
      "333/333 [==============================] - 72s 217ms/step - loss: 0.0149 - semantic_0_loss: 0.0105 - semantic_1_loss: 0.0043 - val_loss: 0.0141 - val_semantic_0_loss: 0.0098 - val_semantic_1_loss: 0.0043\n",
      "Epoch 11/100\n",
      "332/333 [============================>.] - ETA: 0s - loss: 0.0147 - semantic_0_loss: 0.0104 - semantic_1_loss: 0.0043\n",
      "Epoch 00011: val_loss did not improve from 0.01376\n",
      "333/333 [==============================] - 71s 215ms/step - loss: 0.0147 - semantic_0_loss: 0.0104 - semantic_1_loss: 0.0043 - val_loss: 0.0138 - val_semantic_0_loss: 0.0096 - val_semantic_1_loss: 0.0042\n",
      "Epoch 12/100\n",
      "332/333 [============================>.] - ETA: 0s - loss: 0.0145 - semantic_0_loss: 0.0103 - semantic_1_loss: 0.0043\n",
      "Epoch 00012: val_loss improved from 0.01376 to 0.01351, saving model to /data/analyses/specialist_benchmarking/20201018_multiplex_seed_2_subset_100_breast.h5\n",
      "333/333 [==============================] - 74s 223ms/step - loss: 0.0145 - semantic_0_loss: 0.0103 - semantic_1_loss: 0.0043 - val_loss: 0.0135 - val_semantic_0_loss: 0.0095 - val_semantic_1_loss: 0.0040\n",
      "Epoch 13/100\n",
      "332/333 [============================>.] - ETA: 0s - loss: 0.0144 - semantic_0_loss: 0.0101 - semantic_1_loss: 0.0042\n",
      "Epoch 00013: val_loss did not improve from 0.01351\n",
      "333/333 [==============================] - 73s 219ms/step - loss: 0.0144 - semantic_0_loss: 0.0101 - semantic_1_loss: 0.0042 - val_loss: 0.0137 - val_semantic_0_loss: 0.0096 - val_semantic_1_loss: 0.0042\n",
      "Epoch 14/100\n",
      "332/333 [============================>.] - ETA: 0s - loss: 0.0144 - semantic_0_loss: 0.0101 - semantic_1_loss: 0.0042\n",
      "Epoch 00014: val_loss improved from 0.01351 to 0.01350, saving model to /data/analyses/specialist_benchmarking/20201018_multiplex_seed_2_subset_100_breast.h5\n",
      "333/333 [==============================] - 74s 221ms/step - loss: 0.0144 - semantic_0_loss: 0.0101 - semantic_1_loss: 0.0042 - val_loss: 0.0135 - val_semantic_0_loss: 0.0094 - val_semantic_1_loss: 0.0041\n",
      "Epoch 15/100\n",
      "332/333 [============================>.] - ETA: 0s - loss: 0.0141 - semantic_0_loss: 0.0099 - semantic_1_loss: 0.0042\n",
      "Epoch 00015: val_loss improved from 0.01350 to 0.01330, saving model to /data/analyses/specialist_benchmarking/20201018_multiplex_seed_2_subset_100_breast.h5\n",
      "333/333 [==============================] - 74s 223ms/step - loss: 0.0141 - semantic_0_loss: 0.0099 - semantic_1_loss: 0.0042 - val_loss: 0.0133 - val_semantic_0_loss: 0.0092 - val_semantic_1_loss: 0.0041\n",
      "Epoch 16/100\n",
      "332/333 [============================>.] - ETA: 0s - loss: 0.0140 - semantic_0_loss: 0.0098 - semantic_1_loss: 0.0042\n",
      "Epoch 00016: val_loss did not improve from 0.01330\n",
      "333/333 [==============================] - 71s 213ms/step - loss: 0.0140 - semantic_0_loss: 0.0098 - semantic_1_loss: 0.0042 - val_loss: 0.0133 - val_semantic_0_loss: 0.0093 - val_semantic_1_loss: 0.0040\n",
      "Epoch 17/100\n",
      "332/333 [============================>.] - ETA: 0s - loss: 0.0140 - semantic_0_loss: 0.0099 - semantic_1_loss: 0.0042\n",
      "Epoch 00017: val_loss did not improve from 0.01330\n",
      "333/333 [==============================] - 70s 209ms/step - loss: 0.0140 - semantic_0_loss: 0.0099 - semantic_1_loss: 0.0042 - val_loss: 0.0133 - val_semantic_0_loss: 0.0093 - val_semantic_1_loss: 0.0041\n",
      "Epoch 18/100\n",
      "332/333 [============================>.] - ETA: 0s - loss: 0.0138 - semantic_0_loss: 0.0097 - semantic_1_loss: 0.0041\n",
      "Epoch 00018: val_loss did not improve from 0.01330\n",
      "333/333 [==============================] - 71s 213ms/step - loss: 0.0138 - semantic_0_loss: 0.0097 - semantic_1_loss: 0.0041 - val_loss: 0.0154 - val_semantic_0_loss: 0.0113 - val_semantic_1_loss: 0.0041\n",
      "Epoch 19/100\n",
      "332/333 [============================>.] - ETA: 0s - loss: 0.0139 - semantic_0_loss: 0.0097 - semantic_1_loss: 0.0041\n",
      "Epoch 00019: val_loss improved from 0.01330 to 0.01302, saving model to /data/analyses/specialist_benchmarking/20201018_multiplex_seed_2_subset_100_breast.h5\n"
     ]
    },
    {
     "name": "stdout",
     "output_type": "stream",
     "text": [
      "333/333 [==============================] - 73s 218ms/step - loss: 0.0139 - semantic_0_loss: 0.0097 - semantic_1_loss: 0.0041 - val_loss: 0.0130 - val_semantic_0_loss: 0.0090 - val_semantic_1_loss: 0.0040\n",
      "Epoch 20/100\n",
      "332/333 [============================>.] - ETA: 0s - loss: 0.0136 - semantic_0_loss: 0.0095 - semantic_1_loss: 0.0041\n",
      "Epoch 00020: val_loss did not improve from 0.01302\n",
      "333/333 [==============================] - 70s 211ms/step - loss: 0.0136 - semantic_0_loss: 0.0095 - semantic_1_loss: 0.0041 - val_loss: 0.0131 - val_semantic_0_loss: 0.0091 - val_semantic_1_loss: 0.0040\n",
      "Epoch 21/100\n",
      "  9/333 [..............................] - ETA: 45s - loss: 0.0131 - semantic_0_loss: 0.0091 - semantic_1_loss: 0.0041"
     ]
    }
   ],
   "source": [
    "from deepcell.model_zoo.panopticnet import PanopticNet\n",
    "from tensorflow.keras.optimizers import SGD, Adam\n",
    "from deepcell.utils.train_utils import rate_scheduler\n",
    "from deepcell import image_generators\n",
    "from deepcell.utils import train_utils\n",
    "from tensorflow.python.keras.losses import MSE\n",
    "from deepcell import losses\n",
    "from deepcell.utils.train_utils import get_callbacks\n",
    "from deepcell.utils.train_utils import count_gpus\n",
    "\n",
    "\n",
    "\n",
    "for current_subset in subsets:\n",
    "    print(\"Training model for {}\".format(current_subset))\n",
    "    \n",
    "    # initialize new model\n",
    "    new_model = PanopticNet(\n",
    "        backbone='resnet50',\n",
    "        input_shape=(256, 256, 2),\n",
    "        norm_method=None,\n",
    "        num_semantic_heads=2,\n",
    "        num_semantic_classes=[1, 3], # inner distance, pixelwise\n",
    "        location=True,  # should always be true\n",
    "        include_top=True)\n",
    "    \n",
    "    if current_subset == 'all':\n",
    "        X_train_subset, y_train_subset = X_train, y_train\n",
    "        X_val_subset, y_val_subset = X_val, y_val\n",
    "        print(\"There are {} images in the train subset and {} in the val subset\".format(X_train.shape[0], \n",
    "                                                                                        X_val.shape[0]))\n",
    "    else:\n",
    "        subset_idx_train = np.isin(train_subset_list, current_subset)\n",
    "        subset_idx_val = np.isin(val_subset_list, current_subset)\n",
    "        print(\"There are {} images in the train subset and {} in the val subset\".format(np.sum(subset_idx_train), \n",
    "                                                                                        np.sum(subset_idx_val)))\n",
    "\n",
    "        # subset training dict for current subset\n",
    "        X_train_subset, y_train_subset = X_train[subset_idx_train], y_train[subset_idx_train]\n",
    "        X_val_subset, y_val_subset = X_val[subset_idx_val], y_val[subset_idx_val]\n",
    "    \n",
    "    # set up training parameters\n",
    "    model_name = npz_name + '_subset_100_' + current_subset\n",
    "    n_epoch = 100  # Number of training epochs\n",
    "\n",
    "    optimizer = Adam(lr=1e-4, clipnorm=0.001)\n",
    "    lr_sched = rate_scheduler(lr=1e-4, decay=0.99)\n",
    "\n",
    "    batch_size = 8\n",
    "\n",
    "    min_objects = 0  # throw out images with fewer than this many objects\n",
    "    seed=0\n",
    "    print(\"Model name is {}\".format(model_name))\n",
    "    \n",
    "    # create augmented dataset\n",
    "    datagen = image_generators.CroppingDataGenerator(\n",
    "        rotation_range=180,\n",
    "        shear_range=0,\n",
    "        zoom_range=(0.75, 1.25),\n",
    "        horizontal_flip=True,\n",
    "        vertical_flip=True,\n",
    "        crop_size=(256, 256),\n",
    "        float_dtype='float16',\n",
    "        int_dtype='int16')\n",
    "\n",
    "    datagen_val = image_generators.SemanticDataGenerator(\n",
    "        rotation_range=0,\n",
    "        shear_range=0,\n",
    "        zoom_range=0,\n",
    "        horizontal_flip=0,\n",
    "        vertical_flip=0,\n",
    "        float_dtype='float16',\n",
    "        int_dtype='int16')\n",
    "\n",
    "    train_data = datagen.flow(\n",
    "        {'X': X_train_subset, 'y': y_train_subset},\n",
    "        seed=seed,\n",
    "        transforms=['inner-distance', 'pixelwise'],\n",
    "        transforms_kwargs={'pixelwise':{'dilation_radius': 1}, \n",
    "                          'inner-distance': {'erosion_width': 1, 'alpha': 'auto'}},\n",
    "        min_objects=min_objects,\n",
    "        batch_size=batch_size)\n",
    "\n",
    "    val_data = datagen_val.flow(\n",
    "        {'X': X_val_subset, 'y': y_val_subset},\n",
    "        seed=seed,\n",
    "        transforms=['inner-distance', 'pixelwise'],\n",
    "        transforms_kwargs={'pixelwise':{'dilation_radius': 1},\n",
    "                          'inner-distance': {'erosion_width': 1, 'alpha': 'auto'}},\n",
    "        min_objects=min_objects,\n",
    "        batch_size=batch_size)\n",
    "    \n",
    "    print('generators created')\n",
    "    \n",
    "    # set up losses\n",
    "    def semantic_loss(n_classes):\n",
    "        def _semantic_loss(y_pred, y_true):\n",
    "            if n_classes > 1:\n",
    "                return 0.01 * losses.weighted_categorical_crossentropy(\n",
    "                    y_pred, y_true, n_classes=n_classes)\n",
    "            return MSE(y_pred, y_true)\n",
    "        return _semantic_loss\n",
    "\n",
    "\n",
    "    loss = {}\n",
    "\n",
    "    # Give losses for all of the semantic heads\n",
    "    for layer in new_model.layers:\n",
    "        if layer.name.startswith('semantic_'):\n",
    "            n_classes = layer.output_shape[-1]\n",
    "            loss[layer.name] = semantic_loss(n_classes)\n",
    "            \n",
    "    # compile model\n",
    "    new_model.compile(loss=loss, optimizer=optimizer)\n",
    "    \n",
    "    # train model\n",
    "    model_path = os.path.join(MODEL_DIR, '{}.h5'.format(model_name))\n",
    "    loss_path = os.path.join(MODEL_DIR, '{}.npz'.format(model_name))\n",
    "\n",
    "    num_gpus = count_gpus()\n",
    "\n",
    "    print('Training on', num_gpus, 'GPUs.')\n",
    "\n",
    "    train_callbacks = get_callbacks(\n",
    "        model_path,\n",
    "        lr_sched=lr_sched,\n",
    "        tensorboard_log_dir=LOG_DIR,\n",
    "        save_weights_only=num_gpus >= 2,\n",
    "        monitor='val_loss',\n",
    "        verbose=1)\n",
    "\n",
    "    loss_history = new_model.fit_generator(\n",
    "        train_data,\n",
    "        steps_per_epoch=333,\n",
    "        epochs=n_epoch,\n",
    "        validation_data=val_data,\n",
    "        validation_steps=val_data.y.shape[0] // batch_size,\n",
    "        callbacks=train_callbacks)\n"
   ]
  }
 ],
 "metadata": {
  "kernelspec": {
   "display_name": "Python 3",
   "language": "python",
   "name": "python3"
  },
  "language_info": {
   "codemirror_mode": {
    "name": "ipython",
    "version": 3
   },
   "file_extension": ".py",
   "mimetype": "text/x-python",
   "name": "python",
   "nbconvert_exporter": "python",
   "pygments_lexer": "ipython3",
   "version": "3.6.8"
  }
 },
 "nbformat": 4,
 "nbformat_minor": 2
}
