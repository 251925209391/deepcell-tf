{
 "cells": [
  {
   "cell_type": "code",
   "execution_count": 1,
   "metadata": {},
   "outputs": [],
   "source": [
    "import os"
   ]
  },
  {
   "cell_type": "code",
   "execution_count": 2,
   "metadata": {},
   "outputs": [],
   "source": [
    "import os\n",
    "MODEL_DIR = '/data/models/20200619_production_updates/'\n",
    "weights_path = os.path.join(MODEL_DIR, '20201018_multiplex_final_seed_1_nuclear_deep_watershed.h5')"
   ]
  },
  {
   "cell_type": "code",
   "execution_count": 3,
   "metadata": {
    "scrolled": false
   },
   "outputs": [
    {
     "name": "stderr",
     "output_type": "stream",
     "text": [
      "WARNING: Logging before flag parsing goes to stderr.\n",
      "W1104 07:01:36.826202 139710773180224 deprecation.py:506] From /usr/local/lib/python3.6/dist-packages/tensorflow/python/ops/init_ops.py:1251: calling VarianceScaling.__init__ (from tensorflow.python.ops.init_ops) with dtype is deprecated and will be removed in a future version.\n",
      "Instructions for updating:\n",
      "Call initializer instance with the dtype argument instead of passing it to the constructor\n"
     ]
    }
   ],
   "source": [
    "from deepcell.model_zoo.panopticnet import PanopticNet\n",
    "\n",
    "model = PanopticNet(\n",
    "    backbone='resnet50',\n",
    "    input_shape=(256, 256, 2),\n",
    "    norm_method=None,\n",
    "    num_semantic_heads=4,\n",
    "    num_semantic_classes=[1,3, 1, 3], # inner distance, outer distance, fgbg, pixelwise\n",
    "    location=True,  # should always be true\n",
    "    include_top=True, \n",
    "    use_imagenet=False)\n",
    "model.load_weights(weights_path)"
   ]
  },
  {
   "cell_type": "code",
   "execution_count": 4,
   "metadata": {},
   "outputs": [
    {
     "name": "stderr",
     "output_type": "stream",
     "text": [
      "W1104 07:03:50.735482 139710773180224 deprecation_wrapper.py:119] From /usr/local/lib/python3.6/dist-packages/deepcell/utils/export_utils.py:52: The name tf.GPUOptions is deprecated. Please use tf.compat.v1.GPUOptions instead.\n",
      "\n",
      "W1104 07:03:50.736721 139710773180224 deprecation_wrapper.py:119] From /usr/local/lib/python3.6/dist-packages/deepcell/utils/export_utils.py:54: The name tf.Session is deprecated. Please use tf.compat.v1.Session instead.\n",
      "\n",
      "W1104 07:03:50.738055 139710773180224 deprecation_wrapper.py:119] From /usr/local/lib/python3.6/dist-packages/deepcell/utils/export_utils.py:54: The name tf.ConfigProto is deprecated. Please use tf.compat.v1.ConfigProto instead.\n",
      "\n",
      "W1104 07:03:50.833781 139710773180224 deprecation_wrapper.py:119] From /usr/local/lib/python3.6/dist-packages/deepcell/utils/export_utils.py:66: The name tf.global_variables_initializer is deprecated. Please use tf.compat.v1.global_variables_initializer instead.\n",
      "\n",
      "W1104 07:03:50.843230 139710773180224 deprecation_wrapper.py:119] From /usr/local/lib/python3.6/dist-packages/deepcell/utils/export_utils.py:66: The name tf.local_variables_initializer is deprecated. Please use tf.compat.v1.local_variables_initializer instead.\n",
      "\n",
      "W1104 07:03:52.803446 139710773180224 deprecation_wrapper.py:119] From /usr/local/lib/python3.6/dist-packages/deepcell/utils/export_utils.py:88: The name tf.saved_model.signature_def_utils.predict_signature_def is deprecated. Please use tf.compat.v1.saved_model.signature_def_utils.predict_signature_def instead.\n",
      "\n",
      "W1104 07:03:52.804469 139710773180224 deprecation.py:323] From /usr/local/lib/python3.6/dist-packages/tensorflow/python/saved_model/signature_def_utils_impl.py:201: build_tensor_info (from tensorflow.python.saved_model.utils_impl) is deprecated and will be removed in a future version.\n",
      "Instructions for updating:\n",
      "This function will only be available through the v1 compatibility library as tf.compat.v1.saved_model.utils.build_tensor_info or tf.compat.v1.saved_model.build_tensor_info.\n"
     ]
    }
   ],
   "source": [
    "from deepcell.utils.export_utils import export_model\n",
    "export_model(keras_model=model, export_path=MODEL_DIR, model_version=5, weights_path=weights_path)"
   ]
  }
 ],
 "metadata": {
  "kernelspec": {
   "display_name": "Python 3",
   "language": "python",
   "name": "python3"
  },
  "language_info": {
   "codemirror_mode": {
    "name": "ipython",
    "version": 3
   },
   "file_extension": ".py",
   "mimetype": "text/x-python",
   "name": "python",
   "nbconvert_exporter": "python",
   "pygments_lexer": "ipython3",
   "version": "3.6.8"
  }
 },
 "nbformat": 4,
 "nbformat_minor": 2
}
