{
 "cells": [
  {
   "cell_type": "markdown",
   "metadata": {},
   "source": [
    "# Multiplex Watershed: Hyper Parameter Search\n",
    "\n",
    "Using [`optuna`](https://github.com/optuna/optuna) to find the best watershed hyper parameters."
   ]
  },
  {
   "cell_type": "code",
   "execution_count": null,
   "metadata": {},
   "outputs": [],
   "source": [
    "import optuna\n",
    "import numpy as np\n",
    "\n",
    "from deepcell_toolbox.metrics import to_precision\n",
    "from deepcell_toolbox.metrics import Metrics\n",
    "\n",
    "from deepcell.applications import MultiplexSegmentation\n",
    "from deepcell.datasets import multiplex_tissue"
   ]
  },
  {
   "cell_type": "markdown",
   "metadata": {},
   "source": [
    "Create an objective function to run with `optuna`."
   ]
  },
  {
   "cell_type": "code",
   "execution_count": null,
   "metadata": {},
   "outputs": [],
   "source": [
    "def objective(trial):\n",
    "    # Create application\n",
    "    app = MultiplexSegmentation()\n",
    "\n",
    "    # Load the dataset\n",
    "    (X_train, y_train),(X_test, y_test) = multiplex_tissue.load_data()\n",
    "\n",
    "    # Combine into single dataset\n",
    "    X = np.concatenate([X_train, X_test], axis=0)\n",
    "    y = np.concatenate([y_train, y_test], axis=0)\n",
    "\n",
    "    # Define parameters\n",
    "    postprocess_kwargs = {\n",
    "        'radius': trial.suggest_int('radius', 1, 15),\n",
    "        'maxima_threshold': trial.suggest_int('maxima_threshold', 0., 1.),\n",
    "        'interior_threshold': trial.suggest_int('interior_threshold', 0., 1.),\n",
    "        'small_objects_threshold': trial.suggest_int('small_objects_threshold', 1, 15),\n",
    "        'fill_holes_threshold': trial.suggest_int('fill_holes_threshold', 1, 15),\n",
    "        'interior_model_smooth': trial.suggest_int('interior_model_smooth', 0, 4)\n",
    "    }\n",
    "    \n",
    "    # Run the inference\n",
    "    pred = app.predict(\n",
    "        X, compartment='whole-cell',  # TODO: other options depend on data\n",
    "        postprocess_kwargs_whole_cell=postprocess_kwargs,\n",
    "    )\n",
    "    \n",
    "    # Run the metrics\n",
    "    m = Metrics('Hyper Parameter Search', seg=False)\n",
    "    m.calc_object_stats(y, pred)\n",
    "\n",
    "    # Return the value to optimize\n",
    "    monitor = m.stats['jaccard'].mean()\n",
    "    \n",
    "    recall = m.stats['correct_detections'].sum() / m.stats['n_true'].sum()\n",
    "    \n",
    "    precision = m.stats['correct_detections'].sum() / m.stats['n_pred'].sum()\n",
    "\n",
    "    f1 = 2 * precision * recall / (precision + recall)\n",
    "    return f1 if not np.isnan(f1) else 0"
   ]
  },
  {
   "cell_type": "code",
   "execution_count": null,
   "metadata": {},
   "outputs": [],
   "source": [
    "def show_result(study):\n",
    "    pruned_trials = [t for t in study.trials if t.state == optuna.trial.TrialState.PRUNED]\n",
    "    complete_trials = [t for t in study.trials if t.state == optuna.trial.TrialState.COMPLETE]\n",
    "\n",
    "    print('Study statistics: ')\n",
    "    print('  Number of finished trials: ', len(study.trials))\n",
    "    print('  Number of pruned trials: ', len(pruned_trials))\n",
    "    print('  Number of complete trials: ', len(complete_trials))\n",
    "\n",
    "    print('Best trial:')\n",
    "    trial = study.best_trial\n",
    "\n",
    "    print('  Value: ', trial.value)\n",
    "\n",
    "    print('  Params: ')\n",
    "    for key, value in trial.params.items():\n",
    "        print('    {}: {}'.format(key, value))\n"
   ]
  },
  {
   "cell_type": "code",
   "execution_count": null,
   "metadata": {},
   "outputs": [],
   "source": [
    "study = optuna.create_study(\n",
    "    direction='maximize',\n",
    "    pruner=optuna.pruners.MedianPruner(n_startup_trials=2)\n",
    ")\n",
    "\n",
    "study.optimize(objective, n_trials=100, timeout=7200)\n",
    "\n",
    "show_result(study)"
   ]
  },
  {
   "cell_type": "code",
   "execution_count": null,
   "metadata": {},
   "outputs": [],
   "source": []
  }
 ],
 "metadata": {
  "kernelspec": {
   "display_name": "Python 3",
   "language": "python",
   "name": "python3"
  },
  "language_info": {
   "codemirror_mode": {
    "name": "ipython",
    "version": 3
   },
   "file_extension": ".py",
   "mimetype": "text/x-python",
   "name": "python",
   "nbconvert_exporter": "python",
   "pygments_lexer": "ipython3",
   "version": "3.6.8"
  }
 },
 "nbformat": 4,
 "nbformat_minor": 2
}
