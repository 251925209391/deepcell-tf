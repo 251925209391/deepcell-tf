{
 "cells": [
  {
   "cell_type": "markdown",
   "metadata": {},
   "source": [
    "# Watershed Distance Transform for 2D Data\n",
    "---\n",
    "Implementation of papers:\n",
    "\n",
    "[Deep Watershed Transform for Instance Segmentation](http://openaccess.thecvf.com/content_cvpr_2017/papers/Bai_Deep_Watershed_Transform_CVPR_2017_paper.pdf)\n",
    "\n",
    "[Learn to segment single cells with deep distance estimator and deep cell detector](https://arxiv.org/abs/1803.10829)"
   ]
  },
  {
   "cell_type": "code",
   "execution_count": 1,
   "metadata": {},
   "outputs": [
    {
     "name": "stderr",
     "output_type": "stream",
     "text": [
      "/usr/local/lib/python3.5/dist-packages/deepcell/utils/__init__.py:49: UserWarning: To use `compute_overlap`, the C extensions must be built using `python setup.py build_ext --inplace`\n",
      "  warnings.warn('To use `compute_overlap`, the C extensions must be built '\n"
     ]
    }
   ],
   "source": [
    "import os\n",
    "import errno\n",
    "\n",
    "import numpy as np\n",
    "\n",
    "import deepcell"
   ]
  },
  {
   "cell_type": "code",
   "execution_count": 2,
   "metadata": {},
   "outputs": [],
   "source": [
    "from tensorflow.keras.optimizers import SGD\n",
    "from deepcell.utils.train_utils import rate_scheduler\n",
    "\n",
    "n_epoch = 10  # Number of training epochs\n",
    "test_size = .10  # % of data saved as test\n",
    "norm_method = 'std'  # data normalization\n",
    "receptive_field = 61  # should be adjusted for the scale of the data\n",
    "\n",
    "optimizer = SGD(lr=0.01, decay=1e-6, momentum=0.9, nesterov=True)\n",
    "\n",
    "lr_sched = rate_scheduler(lr=0.01, decay=0.99)\n",
    "\n",
    "# Sample mode settings\n",
    "batch_size = 64  # number of images per batch (should be 2 ^ n)\n",
    "win = (receptive_field - 1) // 2  # sample window size\n",
    "balance_classes = True  # sample each class equally\n",
    "max_class_samples = 1e6  # max number of samples per class\n",
    "\n",
    "# Transformation settings\n",
    "transform = 'watershed'\n",
    "distance_bins = 4  # number of distance \"classes\"\n",
    "erosion_width = 0  # erode edges"
   ]
  },
  {
   "cell_type": "code",
   "execution_count": 3,
   "metadata": {},
   "outputs": [],
   "source": [
    "base_name = 'Point1_12_18_3X_interior_border_border'\n",
    "npz_name = '/data/npz_data/' + base_name + \".npz\"\n",
    "MODEL_DIR = '/data/models/' + '20190505_watershed_retrain'\n",
    "\n",
    "if not os.path.isdir(MODEL_DIR):\n",
    "    os.makedirs(MODEL_DIR)\n",
    "\n",
    "LOG_DIR = '/data/logs'\n",
    "\n",
    "\n",
    "fgbg_model_name = base_name + \"_fgbg\"\n",
    "sample_model_name = base_name + \"_watershed\""
   ]
  },
  {
   "cell_type": "markdown",
   "metadata": {},
   "source": [
    "### Load the Training Data"
   ]
  },
  {
   "cell_type": "code",
   "execution_count": 4,
   "metadata": {},
   "outputs": [
    {
     "name": "stdout",
     "output_type": "stream",
     "text": [
      "X.shape: (3, 1024, 1024, 3) & y.shape: (3, 1024, 1024, 1)\n"
     ]
    }
   ],
   "source": [
    "CHANNEL_AXIS = 3\n",
    "training_data = np.load(npz_name)\n",
    "\n",
    "X, y = training_data[\"X\"], training_data[\"y\"]\n",
    "print(\"X.shape: {} & y.shape: {}\".format(X.shape, y.shape))"
   ]
  },
  {
   "cell_type": "markdown",
   "metadata": {},
   "source": [
    "### First, create a foreground/background separation model\n",
    "\n",
    "#### Instantiate the fgbg model"
   ]
  },
  {
   "cell_type": "code",
   "execution_count": 5,
   "metadata": {},
   "outputs": [],
   "source": [
    "from deepcell import model_zoo\n",
    "\n",
    "fgbg_model = model_zoo.bn_feature_net_2D(\n",
    "    receptive_field=receptive_field,\n",
    "    n_channels=X.shape[CHANNEL_AXIS],\n",
    "    n_features=2)"
   ]
  },
  {
   "cell_type": "markdown",
   "metadata": {},
   "source": [
    "#### Train the fgbg model"
   ]
  },
  {
   "cell_type": "code",
   "execution_count": 13,
   "metadata": {},
   "outputs": [
    {
     "name": "stdout",
     "output_type": "stream",
     "text": [
      "using all data as training data\n",
      "X_train shape: (3, 1024, 1024, 3)\n",
      "y_train shape: (3, 1024, 1024, 1)\n",
      "Output Shape: (None, 2)\n",
      "Number of Classes: 2\n",
      "Training on 1 GPUs\n",
      "running model without validation checks\n",
      "Epoch 1/1\n",
      "1561/1562 [============================>.] - ETA: 0s - loss: 0.2308 - acc: 0.9056\n",
      "Epoch 00001: saving model to /data/models/20190505_watershed_retrain/Point1_12_18_3X_interior_border_border_fgbg_epoch_01.h5\n",
      "1562/1562 [==============================] - 257s 165ms/step - loss: 0.2308 - acc: 0.9057\n"
     ]
    }
   ],
   "source": [
    "from deepcell.training import train_model_sample\n",
    "\n",
    "fgbg_model = train_model_sample(\n",
    "    model=fgbg_model,\n",
    "    dataset=npz_name,\n",
    "    model_name=fgbg_model_name,\n",
    "    test_size=test_size,\n",
    "    optimizer=optimizer,\n",
    "    window_size=(win, win),\n",
    "    batch_size=128,\n",
    "    transform='fgbg',\n",
    "    n_epoch=1,\n",
    "    balance_classes=balance_classes,\n",
    "    max_class_samples=100000,\n",
    "    model_dir=MODEL_DIR,\n",
    "    log_dir=LOG_DIR,\n",
    "    lr_sched=lr_sched,\n",
    "    rotation_range=180,\n",
    "    flip=True,\n",
    "    shear=False,\n",
    "    zoom_range=(0.8, 1.2),\n",
    "    val_monitor=False,\n",
    "    save_period=1)"
   ]
  },
  {
   "cell_type": "markdown",
   "metadata": {},
   "source": [
    "### Next, Create a model for the watershed energy transform\n",
    "\n",
    "#### Instantiate the distance transform model"
   ]
  },
  {
   "cell_type": "code",
   "execution_count": 9,
   "metadata": {},
   "outputs": [],
   "source": [
    "from deepcell import model_zoo\n",
    "from deepcell.training import train_model_sample\n",
    "\n",
    "watershed_model = model_zoo.bn_feature_net_2D(\n",
    "    receptive_field=receptive_field,\n",
    "    n_channels=X.shape[CHANNEL_AXIS],\n",
    "    n_features=distance_bins)"
   ]
  },
  {
   "cell_type": "markdown",
   "metadata": {},
   "source": [
    "#### Train the model"
   ]
  },
  {
   "cell_type": "code",
   "execution_count": 10,
   "metadata": {
    "scrolled": true
   },
   "outputs": [
    {
     "name": "stdout",
     "output_type": "stream",
     "text": [
      "using all data as training data\n",
      "X_train shape: (3, 1024, 1024, 3)\n",
      "y_train shape: (3, 1024, 1024, 1)\n",
      "Output Shape: (None, 4)\n",
      "Number of Classes: 4\n",
      "Training on 1 GPUs\n",
      "running model without validation checks\n",
      "Epoch 1/40\n",
      "6382/6382 [==============================] - 550s 86ms/step - loss: 0.7619 - acc: 0.6272\n",
      "Epoch 2/40\n",
      "6382/6382 [==============================] - 535s 84ms/step - loss: 0.7248 - acc: 0.6460\n",
      "Epoch 3/40\n",
      "6382/6382 [==============================] - 532s 83ms/step - loss: 0.7128 - acc: 0.6522\n",
      "Epoch 4/40\n",
      "6382/6382 [==============================] - 528s 83ms/step - loss: 0.7044 - acc: 0.6560\n",
      "Epoch 5/40\n",
      "6382/6382 [==============================] - 528s 83ms/step - loss: 0.6967 - acc: 0.6601\n",
      "Epoch 6/40\n",
      "6382/6382 [==============================] - 524s 82ms/step - loss: 0.6925 - acc: 0.6621\n",
      "Epoch 7/40\n",
      "6382/6382 [==============================] - 521s 82ms/step - loss: 0.6865 - acc: 0.6661\n",
      "Epoch 8/40\n",
      "6382/6382 [==============================] - 518s 81ms/step - loss: 0.6813 - acc: 0.6685\n",
      "Epoch 9/40\n",
      "6382/6382 [==============================] - 516s 81ms/step - loss: 0.6777 - acc: 0.6706\n",
      "Epoch 10/40\n",
      "6381/6382 [============================>.] - ETA: 0s - loss: 0.6728 - acc: 0.6734\n",
      "Epoch 00010: saving model to /data/models/20190505_watershed_retrain/Point1_12_18_3X_interior_border_border_watershed_epoch_10.h5\n",
      "6382/6382 [==============================] - 520s 82ms/step - loss: 0.6728 - acc: 0.6734\n",
      "Epoch 11/40\n",
      "6382/6382 [==============================] - 513s 80ms/step - loss: 0.6649 - acc: 0.6773\n",
      "Epoch 12/40\n",
      "6382/6382 [==============================] - 510s 80ms/step - loss: 0.6438 - acc: 0.6919\n",
      "Epoch 13/40\n",
      "6382/6382 [==============================] - 517s 81ms/step - loss: 0.6210 - acc: 0.7058\n",
      "Epoch 14/40\n",
      "6382/6382 [==============================] - 526s 82ms/step - loss: 0.6061 - acc: 0.7135\n",
      "Epoch 15/40\n",
      "6382/6382 [==============================] - 519s 81ms/step - loss: 0.5944 - acc: 0.7207\n",
      "Epoch 16/40\n",
      "6382/6382 [==============================] - 519s 81ms/step - loss: 0.5860 - acc: 0.7250\n",
      "Epoch 17/40\n",
      "6382/6382 [==============================] - 520s 81ms/step - loss: 0.5799 - acc: 0.7287\n",
      "Epoch 18/40\n",
      "6382/6382 [==============================] - 516s 81ms/step - loss: 0.5735 - acc: 0.7323\n",
      "Epoch 19/40\n",
      "6382/6382 [==============================] - 512s 80ms/step - loss: 0.5686 - acc: 0.7350\n",
      "Epoch 20/40\n",
      "6381/6382 [============================>.] - ETA: 0s - loss: 0.5642 - acc: 0.7371\n",
      "Epoch 00020: saving model to /data/models/20190505_watershed_retrain/Point1_12_18_3X_interior_border_border_watershed_epoch_20.h5\n",
      "6382/6382 [==============================] - 512s 80ms/step - loss: 0.5642 - acc: 0.7371\n",
      "Epoch 21/40\n",
      "6382/6382 [==============================] - 510s 80ms/step - loss: 0.5594 - acc: 0.7404\n",
      "Epoch 22/40\n",
      "6382/6382 [==============================] - 518s 81ms/step - loss: 0.5538 - acc: 0.7426\n",
      "Epoch 23/40\n",
      "6382/6382 [==============================] - 513s 80ms/step - loss: 0.5512 - acc: 0.7444\n",
      "Epoch 24/40\n",
      "6382/6382 [==============================] - 509s 80ms/step - loss: 0.5488 - acc: 0.7454\n",
      "Epoch 25/40\n",
      "6382/6382 [==============================] - 513s 80ms/step - loss: 0.5451 - acc: 0.7480\n",
      "Epoch 26/40\n",
      "6382/6382 [==============================] - 517s 81ms/step - loss: 0.5432 - acc: 0.7485\n",
      "Epoch 27/40\n",
      "6382/6382 [==============================] - 509s 80ms/step - loss: 0.5400 - acc: 0.7503\n",
      "Epoch 28/40\n",
      "6382/6382 [==============================] - 514s 81ms/step - loss: 0.5362 - acc: 0.7528\n",
      "Epoch 29/40\n",
      "6382/6382 [==============================] - 513s 80ms/step - loss: 0.5345 - acc: 0.7538\n",
      "Epoch 30/40\n",
      "6381/6382 [============================>.] - ETA: 0s - loss: 0.5334 - acc: 0.7540\n",
      "Epoch 00030: saving model to /data/models/20190505_watershed_retrain/Point1_12_18_3X_interior_border_border_watershed_epoch_30.h5\n",
      "6382/6382 [==============================] - 519s 81ms/step - loss: 0.5334 - acc: 0.7540\n",
      "Epoch 31/40\n",
      "6382/6382 [==============================] - 514s 81ms/step - loss: 0.5308 - acc: 0.7557\n",
      "Epoch 32/40\n",
      "6382/6382 [==============================] - 515s 81ms/step - loss: 0.5286 - acc: 0.7569\n",
      "Epoch 33/40\n",
      "6382/6382 [==============================] - 518s 81ms/step - loss: 0.5259 - acc: 0.7583\n",
      "Epoch 34/40\n",
      "6382/6382 [==============================] - 524s 82ms/step - loss: 0.5241 - acc: 0.7588\n",
      "Epoch 35/40\n",
      "6382/6382 [==============================] - 512s 80ms/step - loss: 0.5213 - acc: 0.7606\n",
      "Epoch 36/40\n",
      "6382/6382 [==============================] - 515s 81ms/step - loss: 0.5204 - acc: 0.7610\n",
      "Epoch 37/40\n",
      "6382/6382 [==============================] - 516s 81ms/step - loss: 0.5176 - acc: 0.7624\n",
      "Epoch 38/40\n",
      "6382/6382 [==============================] - 517s 81ms/step - loss: 0.5163 - acc: 0.7625\n",
      "Epoch 39/40\n",
      "6382/6382 [==============================] - 513s 80ms/step - loss: 0.5156 - acc: 0.7632\n",
      "Epoch 40/40\n",
      "6381/6382 [============================>.] - ETA: 0s - loss: 0.5121 - acc: 0.7652\n",
      "Epoch 00040: saving model to /data/models/20190505_watershed_retrain/Point1_12_18_3X_interior_border_border_watershed_epoch_40.h5\n",
      "6382/6382 [==============================] - 513s 80ms/step - loss: 0.5121 - acc: 0.7652\n"
     ]
    }
   ],
   "source": [
    "watershed_model = train_model_sample(\n",
    "    model=watershed_model,\n",
    "    dataset=npz_name, \n",
    "    model_name=sample_model_name,\n",
    "    test_size=test_size,\n",
    "    optimizer=optimizer,\n",
    "    batch_size=batch_size,\n",
    "    n_epoch=40,\n",
    "    window_size=(win, win),\n",
    "    transform=transform,\n",
    "    distance_bins=distance_bins,\n",
    "    erosion_width=erosion_width,\n",
    "    balance_classes=balance_classes,\n",
    "    max_class_samples=max_class_samples,\n",
    "    model_dir=MODEL_DIR,\n",
    "    log_dir=LOG_DIR,\n",
    "    lr_sched=lr_sched,\n",
    "    rotation_range=180,\n",
    "    flip=True,\n",
    "    shear=False,\n",
    "    zoom_range=(0.8, 1.2),\n",
    "    val_monitor=False,\n",
    "    save_period=10)"
   ]
  }
 ],
 "metadata": {
  "kernelspec": {
   "display_name": "Python 3",
   "language": "python",
   "name": "python3"
  },
  "language_info": {
   "codemirror_mode": {
    "name": "ipython",
    "version": 3
   },
   "file_extension": ".py",
   "mimetype": "text/x-python",
   "name": "python",
   "nbconvert_exporter": "python",
   "pygments_lexer": "ipython3",
   "version": "3.5.2"
  }
 },
 "nbformat": 4,
 "nbformat_minor": 2
}
