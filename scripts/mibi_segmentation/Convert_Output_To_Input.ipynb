{
 "cells": [
  {
   "cell_type": "code",
   "execution_count": 10,
   "metadata": {},
   "outputs": [],
   "source": [
    "import numpy as np\n",
    "import os\n",
    "import shutil\n",
    "import skimage.io as io"
   ]
  },
  {
   "cell_type": "code",
   "execution_count": 11,
   "metadata": {},
   "outputs": [],
   "source": [
    "base_dir = '/data/models/20190606_params/'"
   ]
  },
  {
   "cell_type": "code",
   "execution_count": 12,
   "metadata": {},
   "outputs": [],
   "source": [
    "data_3_class = np.load(base_dir + 'Point1_12_18_3X_interior_border_border_3_class_64_filters_256_densefilters_epoch_30_metrics.npy')"
   ]
  },
  {
   "cell_type": "code",
   "execution_count": 13,
   "metadata": {},
   "outputs": [],
   "source": [
    "data_4_class = np.load(base_dir + 'Point1_12_18_3X_interior_border_border_4_class_unbalanced_64_filters_256_densefilters_epoch_40_metrics.npy')"
   ]
  },
  {
   "cell_type": "code",
   "execution_count": 19,
   "metadata": {},
   "outputs": [],
   "source": [
    "template_dir = '/data/contour_data/Point1_12_18_3X'"
   ]
  },
  {
   "cell_type": "code",
   "execution_count": 20,
   "metadata": {},
   "outputs": [],
   "source": [
    "dirs = os.listdir(template_dir)\n",
    "dirs = [dir for dir in dirs if 'Point' in dir]\n",
    "dirs.sort()"
   ]
  },
  {
   "cell_type": "code",
   "execution_count": 21,
   "metadata": {},
   "outputs": [],
   "source": [
    "new_dir = '/data/contour_data/Point1_12_18_20190606_output'"
   ]
  },
  {
   "cell_type": "code",
   "execution_count": 22,
   "metadata": {},
   "outputs": [],
   "source": [
    "os.makedirs(new_dir)"
   ]
  },
  {
   "cell_type": "code",
   "execution_count": 23,
   "metadata": {},
   "outputs": [],
   "source": [
    "for idx, directory in enumerate(dirs):\n",
    "    if not os.path.isdir(os.path.join(new_dir, directory)):\n",
    "        os.makedirs(os.path.join(new_dir, directory))\n",
    "        os.makedirs(os.path.join(new_dir, directory, 'annotated'))\n",
    "        os.makedirs(os.path.join(new_dir, directory, 'raw'))\n",
    "        file = os.listdir(os.path.join(template_dir, directory, 'annotated'))\n",
    "        file = file[1]\n",
    "        shutil.copy(os.path.join(template_dir, directory, 'annotated', file), os.path.join(new_dir, directory, 'annotated', file))\n",
    "    io.imsave(os.path.join(new_dir, directory, 'raw', 'border_3_class.tiff'), data_3_class[idx, :, :, 0])\n",
    "    io.imsave(os.path.join(new_dir, directory, 'raw', 'interior_3_class.tiff'), data_3_class[idx, :, :, 1])\n",
    "    io.imsave(os.path.join(new_dir, directory, 'raw', 'border_4_class_1.tiff'), data_4_class[idx, :, :, 0])\n",
    "    io.imsave(os.path.join(new_dir, directory, 'raw', 'border_4_class_2.tiff'), data_4_class[idx, :, :, 1])\n",
    "    io.imsave(os.path.join(new_dir, directory, 'raw', 'interior_4_class.tiff'), data_4_class[idx, :, :, 2])\n",
    "    \n",
    "        "
   ]
  },
  {
   "cell_type": "code",
   "execution_count": 45,
   "metadata": {},
   "outputs": [],
   "source": [
    "from deepcell.utils.data_utils import make_training_data\n",
    "from deepcell.utils.data_utils import get_data\n",
    "from deepcell.utils.io_utils import get_image_sizes\n",
    "DATA_DIR = \"/data/contour_data/\"\n",
    "DATA_FILE = \"Point1_12_18_23_20190606_output\""
   ]
  },
  {
   "cell_type": "code",
   "execution_count": 46,
   "metadata": {},
   "outputs": [],
   "source": [
    "make_training_data(\n",
    "    #channel_names=['border_3_class.tiff', 'border_4_class_1.tiff', 'border_4_class_2.tiff'],\n",
    "    #channel_names=['border_3_class.tiff', 'interior_3_class.tiff'],\n",
    "    channel_names=['border_3_class.tiff', 'interior_3_class.tiff', 'border_4_class_1.tiff'],\n",
    "    #channel_names=['border_3_class.tiff', 'interior_3_class.tiff', 'interior_4_class.tiff', \n",
    "    #               'border_4_class_1.tiff', 'border_4_class_2.tiff'],\n",
    "    file_name_save=os.path.join(\"/data/npz_data\", \"Point1_12_18_23_20190606_output_3_class_with_interior_edge\"),\n",
    "    dimensionality=2,\n",
    "    annotation_direc=\"annotated\",\n",
    "    annotation_name='Nuclear_Interior_Border_Mask_Label',\n",
    "    reshape_size=None,\n",
    "    training_direcs=None,\n",
    "    raw_image_direc=\"raw\",\n",
    "    direc_name=os.path.join(DATA_DIR, DATA_FILE)\n",
    ")"
   ]
  }
 ],
 "metadata": {
  "kernelspec": {
   "display_name": "Python 3",
   "language": "python",
   "name": "python3"
  },
  "language_info": {
   "codemirror_mode": {
    "name": "ipython",
    "version": 3
   },
   "file_extension": ".py",
   "mimetype": "text/x-python",
   "name": "python",
   "nbconvert_exporter": "python",
   "pygments_lexer": "ipython3",
   "version": "3.5.2"
  }
 },
 "nbformat": 4,
 "nbformat_minor": 2
}
