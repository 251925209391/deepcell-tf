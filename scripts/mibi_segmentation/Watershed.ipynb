{
 "cells": [
  {
   "cell_type": "markdown",
   "metadata": {},
   "source": [
    "# Watershed Distance Transform for 2D Data\n",
    "---\n",
    "Implementation of papers:\n",
    "\n",
    "[Deep Watershed Transform for Instance Segmentation](http://openaccess.thecvf.com/content_cvpr_2017/papers/Bai_Deep_Watershed_Transform_CVPR_2017_paper.pdf)\n",
    "\n",
    "[Learn to segment single cells with deep distance estimator and deep cell detector](https://arxiv.org/abs/1803.10829)"
   ]
  },
  {
   "cell_type": "code",
   "execution_count": 1,
   "metadata": {},
   "outputs": [
    {
     "name": "stderr",
     "output_type": "stream",
     "text": [
      "Using TensorFlow backend.\n"
     ]
    }
   ],
   "source": [
    "import os\n",
    "import errno\n",
    "\n",
    "import numpy as np\n",
    "\n",
    "import deepcell"
   ]
  },
  {
   "cell_type": "code",
   "execution_count": 2,
   "metadata": {},
   "outputs": [],
   "source": [
    "from tensorflow.keras.optimizers import SGD\n",
    "from deepcell.utils.train_utils import rate_scheduler\n",
    "\n",
    "n_epoch = 10  # Number of training epochs\n",
    "test_size = .10  # % of data saved as test\n",
    "norm_method = 'std'  # data normalization\n",
    "receptive_field = 61  # should be adjusted for the scale of the data\n",
    "\n",
    "optimizer = SGD(lr=0.01, decay=1e-6, momentum=0.9, nesterov=True)\n",
    "\n",
    "lr_sched = rate_scheduler(lr=0.01, decay=0.99)\n",
    "\n",
    "# Sample mode settings\n",
    "batch_size = 64  # number of images per batch (should be 2 ^ n)\n",
    "win = (receptive_field - 1) // 2  # sample window size\n",
    "balance_classes = True  # sample each class equally\n",
    "max_class_samples = 1e6  # max number of samples per class\n",
    "\n",
    "# Transformation settings\n",
    "transform = 'watershed'\n",
    "distance_bins = 4  # number of distance \"classes\"\n",
    "erosion_width = 0  # erode edges"
   ]
  },
  {
   "cell_type": "code",
   "execution_count": 29,
   "metadata": {},
   "outputs": [],
   "source": [
    "npz_name = \"Point1_12_18_3X_interior_border_border.npz\"\n",
    "fgbg_model_name = 'sample_fgbg_Point1_12_18_23_interior_border_border_5'\n",
    "sample_model_name = 'sample_watershed_Point1_12_18_23_interior_border_border_20'"
   ]
  },
  {
   "cell_type": "markdown",
   "metadata": {},
   "source": [
    "### Load the Training Data"
   ]
  },
  {
   "cell_type": "code",
   "execution_count": 19,
   "metadata": {},
   "outputs": [
    {
     "name": "stdout",
     "output_type": "stream",
     "text": [
      "X.shape: (3, 1024, 1024, 3) & y.shape: (3, 1024, 1024, 1)\n"
     ]
    }
   ],
   "source": [
    "CHANNEL_AXIS = 3\n",
    "training_data = np.load(os.path.join('/notebooks/Noah_Scripts/notebooks/output/npz_data', npz_name))\n",
    "\n",
    "X, y = training_data[\"X\"], training_data[\"y\"]\n",
    "print(\"X.shape: {} & y.shape: {}\".format(X.shape, y.shape))"
   ]
  },
  {
   "cell_type": "markdown",
   "metadata": {},
   "source": [
    "### Set up filepath constants"
   ]
  },
  {
   "cell_type": "code",
   "execution_count": 20,
   "metadata": {},
   "outputs": [],
   "source": [
    "# the path to the data file is currently required for `train_model_()` functions\n",
    "\n",
    "# change DATA_DIR if you are not using `deepcell.datasets`\n",
    "DATA_DIR = os.path.join(os.getcwd(), \"output/npz_data\")\n",
    "\n",
    "# DATA_FILE should be a npz file, preferably from `make_training_data`\n",
    "DATA_FILE = os.path.join(DATA_DIR, npz_name)\n",
    "\n",
    "# confirm the data file is available\n",
    "assert os.path.isfile(DATA_FILE)"
   ]
  },
  {
   "cell_type": "code",
   "execution_count": 6,
   "metadata": {},
   "outputs": [],
   "source": [
    "# Set up other required filepaths\n",
    "\n",
    "# If the data file is in a subdirectory, mirror it in MODEL_DIR and LOG_DIR\n",
    "PREFIX = os.path.relpath(os.path.dirname(DATA_FILE), DATA_DIR)\n",
    "\n",
    "ROOT_DIR = '/notebooks/Noah_Scripts/notebooks/output/'  # TODO: Change this! Usually a mounted volume\n",
    "MODEL_DIR = os.path.abspath(os.path.join(ROOT_DIR, 'models', PREFIX))\n",
    "LOG_DIR = os.path.abspath(os.path.join(ROOT_DIR, 'logs', PREFIX))\n",
    "\n",
    "# create directories if they do not exist\n",
    "for d in (MODEL_DIR, LOG_DIR):\n",
    "    try:\n",
    "        os.makedirs(d)\n",
    "    except OSError as exc:  # Guard against race condition\n",
    "        if exc.errno != errno.EEXIST:\n",
    "            raise"
   ]
  },
  {
   "cell_type": "markdown",
   "metadata": {},
   "source": [
    "### First, create a foreground/background separation model\n",
    "\n",
    "#### Instantiate the fgbg model"
   ]
  },
  {
   "cell_type": "code",
   "execution_count": 21,
   "metadata": {},
   "outputs": [],
   "source": [
    "from deepcell import model_zoo\n",
    "\n",
    "fgbg_model = model_zoo.bn_feature_net_2D(\n",
    "    receptive_field=receptive_field,\n",
    "    n_channels=X.shape[CHANNEL_AXIS],\n",
    "    n_features=2)"
   ]
  },
  {
   "cell_type": "markdown",
   "metadata": {},
   "source": [
    "#### Train the fgbg model"
   ]
  },
  {
   "cell_type": "code",
   "execution_count": 22,
   "metadata": {},
   "outputs": [
    {
     "name": "stdout",
     "output_type": "stream",
     "text": [
      "using all data as training data\n",
      "X_train shape: (3, 1024, 1024, 3)\n",
      "y_train shape: (3, 1024, 1024, 1)\n",
      "Output Shape: (None, 2)\n",
      "Number of Classes: 2\n",
      "Training on 1 GPUs\n",
      "running model without validation checks\n",
      "Epoch 1/5\n",
      "28661/28661 [==============================] - 2603s 91ms/step - loss: 0.2127 - acc: 0.9098\n",
      "Epoch 2/5\n",
      "28661/28661 [==============================] - 2594s 91ms/step - loss: 0.2028 - acc: 0.9135\n",
      "Epoch 3/5\n",
      "28661/28661 [==============================] - 2598s 91ms/step - loss: 0.1978 - acc: 0.9154\n",
      "Epoch 4/5\n",
      "28661/28661 [==============================] - 2550s 89ms/step - loss: 0.1939 - acc: 0.9170\n",
      "Epoch 5/5\n",
      "28661/28661 [==============================] - 2563s 89ms/step - loss: 0.1908 - acc: 0.9181\n"
     ]
    }
   ],
   "source": [
    "from deepcell.training import train_model_sample\n",
    "\n",
    "fgbg_model = train_model_sample(\n",
    "    model=fgbg_model,\n",
    "    dataset=DATA_FILE,  # full path to npz file\n",
    "    model_name=fgbg_model_name,\n",
    "    test_size=test_size,\n",
    "    optimizer=optimizer,\n",
    "    window_size=(win, win),\n",
    "    batch_size=batch_size,\n",
    "    transform='fgbg',\n",
    "    n_epoch=5,\n",
    "    balance_classes=balance_classes,\n",
    "    max_class_samples=max_class_samples,\n",
    "    model_dir=MODEL_DIR,\n",
    "    log_dir=LOG_DIR,\n",
    "    lr_sched=lr_sched,\n",
    "    rotation_range=180,\n",
    "    flip=True,\n",
    "    shear=False,\n",
    "    zoom_range=(0.8, 1.2),\n",
    "    test_split=False)"
   ]
  },
  {
   "cell_type": "markdown",
   "metadata": {},
   "source": [
    "### Next, Create a model for the watershed energy transform\n",
    "\n",
    "#### Instantiate the distance transform model"
   ]
  },
  {
   "cell_type": "code",
   "execution_count": 23,
   "metadata": {},
   "outputs": [],
   "source": [
    "from deepcell import model_zoo\n",
    "from deepcell.training import train_model_sample\n",
    "\n",
    "watershed_model = model_zoo.bn_feature_net_2D(\n",
    "    receptive_field=receptive_field,\n",
    "    n_channels=X.shape[CHANNEL_AXIS],\n",
    "    n_features=distance_bins)"
   ]
  },
  {
   "cell_type": "markdown",
   "metadata": {},
   "source": [
    "#### Train the model"
   ]
  },
  {
   "cell_type": "code",
   "execution_count": 30,
   "metadata": {},
   "outputs": [
    {
     "name": "stdout",
     "output_type": "stream",
     "text": [
      "using all data as training data\n",
      "X_train shape: (3, 1024, 1024, 3)\n",
      "y_train shape: (3, 1024, 1024, 1)\n",
      "Output Shape: (None, 4)\n",
      "Number of Classes: 4\n",
      "Training on 1 GPUs\n",
      "running model without validation checks\n",
      "Epoch 1/10\n",
      "6382/6382 [==============================] - 591s 93ms/step - loss: 0.6709 - acc: 0.6741\n",
      "Epoch 2/10\n",
      "6382/6382 [==============================] - 583s 91ms/step - loss: 0.6621 - acc: 0.6807\n",
      "Epoch 3/10\n",
      "6382/6382 [==============================] - 582s 91ms/step - loss: 0.6396 - acc: 0.6937\n",
      "Epoch 4/10\n",
      "6382/6382 [==============================] - 579s 91ms/step - loss: 0.6187 - acc: 0.7066\n",
      "Epoch 5/10\n",
      "6382/6382 [==============================] - 583s 91ms/step - loss: 0.6052 - acc: 0.7143\n",
      "Epoch 6/10\n",
      "6382/6382 [==============================] - 580s 91ms/step - loss: 0.5947 - acc: 0.7204\n",
      "Epoch 7/10\n",
      "6382/6382 [==============================] - 591s 93ms/step - loss: 0.5863 - acc: 0.7251\n",
      "Epoch 8/10\n",
      "6382/6382 [==============================] - 591s 93ms/step - loss: 0.5799 - acc: 0.7280\n",
      "Epoch 9/10\n",
      "6382/6382 [==============================] - 591s 93ms/step - loss: 0.5742 - acc: 0.7314\n",
      "Epoch 10/10\n",
      "6382/6382 [==============================] - 587s 92ms/step - loss: 0.5682 - acc: 0.7341\n"
     ]
    }
   ],
   "source": [
    "watershed_model = train_model_sample(\n",
    "    model=watershed_model,\n",
    "    dataset=DATA_FILE,  # full path to npz file\n",
    "    model_name=sample_model_name,\n",
    "    test_size=test_size,\n",
    "    optimizer=optimizer,\n",
    "    batch_size=batch_size,\n",
    "    n_epoch=10,\n",
    "    window_size=(win, win),\n",
    "    transform=transform,\n",
    "    distance_bins=distance_bins,\n",
    "    erosion_width=erosion_width,\n",
    "    balance_classes=balance_classes,\n",
    "    max_class_samples=max_class_samples,\n",
    "    model_dir=MODEL_DIR,\n",
    "    log_dir=LOG_DIR,\n",
    "    lr_sched=lr_sched,\n",
    "    rotation_range=180,\n",
    "    flip=True,\n",
    "    shear=False,\n",
    "    zoom_range=(0.8, 1.2),\n",
    "    test_split=False)"
   ]
  },
  {
   "cell_type": "code",
   "execution_count": 31,
   "metadata": {},
   "outputs": [
    {
     "data": {
      "text/plain": [
       "'sample_watershed_Point1_12_18_23_interior_border_border_20'"
      ]
     },
     "execution_count": 31,
     "metadata": {},
     "output_type": "execute_result"
    }
   ],
   "source": [
    "fgbg_model_name\n",
    "sample_model_name"
   ]
  },
  {
   "cell_type": "markdown",
   "metadata": {},
   "source": [
    "### Run the model\n",
    "\n",
    "The model was trained on small samples of data of shape `(receptive_field, receptive_field)`.\n",
    "in order to process full-sized images, the trained weights will be saved and loaded into a new model with `dilated=True` and proper `input_shape`.\n",
    "\n",
    "#### Save weights of trained models"
   ]
  },
  {
   "cell_type": "code",
   "execution_count": 32,
   "metadata": {},
   "outputs": [],
   "source": [
    "# Save the model weights to reload a dilated model\n",
    "\n",
    "# fgbg_weights_file = os.path.join(MODEL_DIR, '{}.h5'.format(fgbg_model_name))\n",
    "# fgbg_model.save_weights(fgbg_weights_file)\n",
    "\n",
    "watershed_weights_file = os.path.join(MODEL_DIR, '{}.h5'.format(sample_model_name))\n",
    "watershed_model.save_weights(watershed_weights_file)"
   ]
  },
  {
   "cell_type": "markdown",
   "metadata": {},
   "source": [
    "#### Initialize dilated models and load the weights"
   ]
  },
  {
   "cell_type": "code",
   "execution_count": 31,
   "metadata": {},
   "outputs": [],
   "source": [
    "from deepcell import model_zoo\n",
    "\n",
    "# All training parameters should match except for the `input_shape` and `dilated=True`\n",
    "\n",
    "run_fgbg_model = model_zoo.bn_feature_net_2D(\n",
    "    receptive_field=receptive_field,\n",
    "    dilated=True,\n",
    "    n_features=2,\n",
    "    input_shape=tuple(X.shape[1:]))\n",
    "run_fgbg_model.load_weights(fgbg_weights_file)\n",
    "\n",
    "run_watershed_model = model_zoo.bn_feature_net_2D(\n",
    "    dilated=True,\n",
    "    receptive_field=receptive_field,\n",
    "    n_features=distance_bins,\n",
    "    input_shape=tuple(X.shape[1:]))\n",
    "run_watershed_model.load_weights(watershed_weights_file)"
   ]
  },
  {
   "cell_type": "markdown",
   "metadata": {},
   "source": [
    "#### Make predictions on test data"
   ]
  },
  {
   "cell_type": "code",
   "execution_count": 32,
   "metadata": {},
   "outputs": [
    {
     "name": "stdout",
     "output_type": "stream",
     "text": [
      "watershed transform shape: (4, 1024, 1024, 4)\n",
      "segmentation mask shape: (4, 1024, 1024, 2)\n"
     ]
    }
   ],
   "source": [
    "# With the trained model, make predictions on testing data\n",
    "test_images = run_watershed_model.predict(X)\n",
    "test_images_fgbg = run_fgbg_model.predict(X)\n",
    "\n",
    "print('watershed transform shape:', test_images.shape)\n",
    "print('segmentation mask shape:', test_images_fgbg.shape)"
   ]
  },
  {
   "cell_type": "markdown",
   "metadata": {},
   "source": [
    "#### Watershed post-processing"
   ]
  },
  {
   "cell_type": "code",
   "execution_count": 33,
   "metadata": {},
   "outputs": [
    {
     "name": "stdout",
     "output_type": "stream",
     "text": [
      "watershed argmax shape: (4, 1024, 1024, 1)\n"
     ]
    }
   ],
   "source": [
    "argmax_images = []\n",
    "for i in range(test_images.shape[0]):\n",
    "    argmax_images.append(np.argmax(test_images[i], axis=-1))\n",
    "argmax_images = np.array(argmax_images)\n",
    "argmax_images = np.expand_dims(argmax_images, axis=-1)\n",
    "\n",
    "print('watershed argmax shape:', argmax_images.shape)"
   ]
  },
  {
   "cell_type": "code",
   "execution_count": 34,
   "metadata": {},
   "outputs": [],
   "source": [
    "# threshold the foreground/background\n",
    "# and remove back ground from watershed transform\n",
    "threshold = 0.9\n",
    "\n",
    "fg_thresh = test_images_fgbg[..., 1] > threshold\n",
    "\n",
    "fg_thresh = np.expand_dims(fg_thresh, axis=-1)\n",
    "argmax_images_post_fgbg = argmax_images * fg_thresh"
   ]
  },
  {
   "cell_type": "code",
   "execution_count": 50,
   "metadata": {},
   "outputs": [],
   "source": [
    "# Apply watershed method with the distance transform as seed\n",
    "from skimage.measure import label\n",
    "from skimage.morphology import watershed\n",
    "from skimage.feature import peak_local_max\n",
    "\n",
    "watershed_images = []\n",
    "for i in range(argmax_images_post_fgbg.shape[0]):\n",
    "    image = fg_thresh[i, ..., 0]\n",
    "    distance = argmax_images_post_fgbg[i, ..., 0]\n",
    "\n",
    "    local_maxi = peak_local_max(test_images[i, ..., -1],\n",
    "                                min_distance=5, \n",
    "                                exclude_border=False,\n",
    "                                indices=False,\n",
    "                                labels=image)\n",
    "\n",
    "    markers = label(local_maxi)\n",
    "    segments = watershed(-distance, markers, mask=image)\n",
    "    watershed_images.append(segments)\n",
    "\n",
    "watershed_images = np.array(watershed_images)\n",
    "watershed_images = np.expand_dims(watershed_images, axis=-1)"
   ]
  },
  {
   "cell_type": "code",
   "execution_count": 40,
   "metadata": {},
   "outputs": [
    {
     "data": {
      "text/plain": [
       "(4, 1024, 1024, 1)"
      ]
     },
     "execution_count": 40,
     "metadata": {},
     "output_type": "execute_result"
    }
   ],
   "source": [
    "argmax_images.shape"
   ]
  },
  {
   "cell_type": "markdown",
   "metadata": {},
   "source": [
    "### Plot the Results"
   ]
  },
  {
   "cell_type": "code",
   "execution_count": 51,
   "metadata": {},
   "outputs": [
    {
     "name": "stdout",
     "output_type": "stream",
     "text": [
      "Image number: 3\n"
     ]
    },
    {
     "data": {
      "image/png": "[encoded data removed]",
      "text/plain": [
       "<Figure size 1080x1080 with 3 Axes>"
      ]
     },
     "metadata": {
      "needs_background": "light"
     },
     "output_type": "display_data"
    }
   ],
   "source": [
    "import matplotlib.pyplot as plt\n",
    "\n",
    "index = 3 #np.random.randint(low=0, high=X_test.shape[0])\n",
    "print('Image number:', index)\n",
    "\n",
    "# fig, axes = plt.subplots(ncols=3, nrows=2, figsize=(15, 15), sharex=True, sharey=True)\n",
    "fig, axes = plt.subplots(ncols=3, nrows=1, figsize=(15, 15), sharex=True, sharey=True)\n",
    "ax = axes.ravel()\n",
    "\n",
    "# ax[0].imshow(X[index, ..., 0])\n",
    "# ax[0].set_title('Source Image')\n",
    "\n",
    "# ax[1].imshow(test_images_fgbg[index, ..., 1])\n",
    "# ax[1].set_title('Segmentation Prediction')\n",
    "\n",
    "# ax[2].imshow(fg_thresh[index, ..., 0], cmap='jet')\n",
    "# ax[2].set_title('FGBG Threshold {}%'.format(threshold * 100))\n",
    "\n",
    "ax[0].imshow(argmax_images[index, 256:512, 256:512, 0], cmap='jet')\n",
    "ax[0].set_title('Distance Transform')\n",
    "\n",
    "ax[1].imshow(argmax_images_post_fgbg[index, 256:512, 256:512, 0], cmap='jet')\n",
    "ax[1].set_title('Distance Transform w/o Background')\n",
    "\n",
    "ax[2].imshow(watershed_images[index, 256:512, 256:512, 0], cmap='jet')\n",
    "ax[2].set_title('Watershed Segmentation')\n",
    "\n",
    "fig.tight_layout()\n",
    "plt.show()"
   ]
  },
  {
   "cell_type": "code",
   "execution_count": null,
   "metadata": {},
   "outputs": [],
   "source": []
  }
 ],
 "metadata": {
  "kernelspec": {
   "display_name": "Python 3",
   "language": "python",
   "name": "python3"
  },
  "language_info": {
   "codemirror_mode": {
    "name": "ipython",
    "version": 3
   },
   "file_extension": ".py",
   "mimetype": "text/x-python",
   "name": "python",
   "nbconvert_exporter": "python",
   "pygments_lexer": "ipython3",
   "version": "3.5.2"
  }
 },
 "nbformat": 4,
 "nbformat_minor": 2
}
