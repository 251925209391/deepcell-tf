{
 "cells": [
  {
   "cell_type": "markdown",
   "metadata": {},
   "source": [
    "## Training\n",
    "A template Jupyter notebook to further train models.\n",
    "Data is given in compressed form and extracted for training."
   ]
  },
  {
   "cell_type": "code",
   "execution_count": 9,
   "metadata": {},
   "outputs": [],
   "source": [
    "import os\n",
    "import errno\n",
    "import random\n",
    "import shutil\n",
    "import zipfile\n",
    "import importlib\n",
    "\n",
    "import numpy as np\n",
    "from tensorflow.python import keras\n",
    "\n",
    "from deepcell.utils.data_utils import get_data\n",
    "from deepcell.utils.io_utils import get_image_sizes\n",
    "from deepcell.utils.export_utils import export_model\n",
    "from deepcell.utils.train_utils import rate_scheduler\n",
    "from deepcell.model_zoo import bn_feature_net_2D\n",
    "from deepcell.model_zoo import bn_feature_net_skip_2D\n",
    "#from deepcell.training import train_model_sample\n",
    "import deepcell.training\n",
    "import deepcell.image_generators"
   ]
  },
  {
   "cell_type": "code",
   "execution_count": 2,
   "metadata": {},
   "outputs": [],
   "source": [
    "# filepath constants\n",
    "NPZ_DIR = \"/data/npz_data\"\n",
    "LOG_DIR = \"/data/logs\"\n",
    "\n",
    "# Check for channels_first or channels_last\n",
    "IS_CHANNELS_FIRST = keras.backend.image_data_format() == \"channels_first\"\n",
    "ROW_AXIS = 2 if IS_CHANNELS_FIRST else 1\n",
    "COL_AXIS = 3 if IS_CHANNELS_FIRST else 2\n",
    "CHANNEL_AXIS = 1 if IS_CHANNELS_FIRST else 3"
   ]
  },
  {
   "cell_type": "code",
   "execution_count": 3,
   "metadata": {},
   "outputs": [],
   "source": [
    "# create folder for this set of experiments\n",
    "experiment_folder = \"20190822_training_freeze_1\"\n",
    "MODEL_DIR = os.path.join(\"/data/models\", experiment_folder)\n",
    "if not os.path.isdir(MODEL_DIR):\n",
    "    os.makedirs(MODEL_DIR)"
   ]
  },
  {
   "cell_type": "code",
   "execution_count": 4,
   "metadata": {},
   "outputs": [],
   "source": [
    "npz_name = \"Training_Freeze_1_BHN\"\n",
    "MODEL_NAME = npz_name + '_81_rf_512_dense_128_conv'\n",
    "n_epoch = 30"
   ]
  },
  {
   "cell_type": "code",
   "execution_count": 5,
   "metadata": {},
   "outputs": [
    {
     "name": "stdout",
     "output_type": "stream",
     "text": [
      "X.shape: (4, 1024, 1024, 3) & y.shape: (4, 1024, 1024, 1)\n"
     ]
    }
   ],
   "source": [
    "# Load the training data from NPZ into a numpy array\n",
    "training_data = np.load(os.path.join(NPZ_DIR, npz_name + \".npz\"))\n",
    "RESIZE = False\n",
    "\n",
    "X, y = training_data[\"X\"], training_data[\"y\"]\n",
    "print(\"X.shape: {} & y.shape: {}\".format(X.shape, y.shape))\n",
    "\n",
    "# save the size of the input data for input_shape model parameter\n",
    "size = (RESHAPE_SIZE, RESHAPE_SIZE) if RESIZE else X.shape[ROW_AXIS:COL_AXIS + 1]\n",
    "if IS_CHANNELS_FIRST:\n",
    "    input_shape = (X.shape[CHANNEL_AXIS], size[0], size[1])\n",
    "else:\n",
    "    input_shape = (size[0], size[1], X.shape[CHANNEL_AXIS])\n",
    "\n",
    "# Set up other training parameters\n",
    "batch_size = 32\n",
    "optimizer = keras.optimizers.SGD(lr=0.01, decay=1e-6, momentum=0.9, nesterov=True)\n",
    "lr_sched = rate_scheduler(lr=0.01, decay=0.99)"
   ]
  },
  {
   "cell_type": "code",
   "execution_count": 6,
   "metadata": {},
   "outputs": [],
   "source": [
    "# Instantiate the model\n",
    "model = bn_feature_net_2D(\n",
    "    n_features=3,\n",
    "    n_dense_filters=512,\n",
    "    n_channels=X.shape[CHANNEL_AXIS],\n",
    "    receptive_field=81,\n",
    "    reg=1e-05,\n",
    "    norm_method=\"std\",\n",
    "    input_shape=input_shape,\n",
    "    n_conv_filters=128,\n",
    ")"
   ]
  },
  {
   "cell_type": "code",
   "execution_count": 7,
   "metadata": {},
   "outputs": [
    {
     "name": "stdout",
     "output_type": "stream",
     "text": [
      "Training_Freeze_1_BHN_81_rf_512_dense_128_conv\n"
     ]
    }
   ],
   "source": [
    "print(MODEL_NAME)"
   ]
  },
  {
   "cell_type": "code",
   "execution_count": null,
   "metadata": {},
   "outputs": [
    {
     "name": "stdout",
     "output_type": "stream",
     "text": [
      "using all data as training data\n",
      "Using class weights of {0: 1.0, 1: 1.0, 2: 1.0}\n",
      "X_train shape: (4, 1024, 1024, 3)\n",
      "y_train shape: (4, 1024, 1024, 1)\n",
      "Output Shape: (None, 3)\n",
      "Number of Classes: 3\n",
      "Training on 1 GPUs\n",
      "the max_class_samples per image is 100000\n",
      "analyzing image 0\n",
      "the least represented class has 77587 examples\n",
      "analyzing class 0\n",
      "downsampling from 93059 examples per class\n",
      "analyzing class 1\n",
      "downsampling from 718603 examples per class\n",
      "analyzing class 2\n",
      "downsampling from 77587 examples per class\n",
      "analyzing image 1\n",
      "the least represented class has 71519 examples\n",
      "analyzing class 0\n",
      "downsampling from 71519 examples per class\n",
      "analyzing class 1\n",
      "downsampling from 537984 examples per class\n",
      "analyzing class 2\n",
      "downsampling from 279746 examples per class\n",
      "analyzing image 2\n",
      "the least represented class has 83101 examples\n",
      "analyzing class 0\n",
      "downsampling from 83101 examples per class\n",
      "analyzing class 1\n",
      "downsampling from 563047 examples per class\n",
      "analyzing class 2\n",
      "downsampling from 243101 examples per class\n",
      "analyzing image 3\n",
      "the least represented class has 32067 examples\n",
      "analyzing class 0\n",
      "downsampling from 102354 examples per class\n",
      "analyzing class 1\n",
      "downsampling from 754828 examples per class\n",
      "analyzing class 2\n",
      "downsampling from 32067 examples per class\n",
      "running model without validation checks\n",
      "Epoch 1/30\n",
      "24775/24775 [==============================] - 2458s 99ms/step - loss: 0.6433 - acc: 0.6979\n",
      "Epoch 2/30\n",
      "24775/24775 [==============================] - 2449s 99ms/step - loss: 0.5798 - acc: 0.7269\n",
      "Epoch 3/30\n",
      "24774/24775 [============================>.] - ETA: 0s - loss: 0.5466 - acc: 0.7420\n",
      "Epoch 00003: saving model to /data/models/20190822_training_freeze_1/Training_Freeze_1_BHN_81_rf_512_dense_128_conv_epoch_03.h5\n",
      "24775/24775 [==============================] - 2440s 98ms/step - loss: 0.5466 - acc: 0.7420\n",
      "Epoch 4/30\n",
      "24775/24775 [==============================] - 2436s 98ms/step - loss: 0.5212 - acc: 0.7536\n",
      "Epoch 5/30\n",
      " 2341/24775 [=>............................] - ETA: 36:50 - loss: 0.5073 - acc: 0.7600"
     ]
    }
   ],
   "source": [
    "# Train the model\n",
    "model = deepcell.training.train_model_sample(\n",
    "    max_class_samples=400000,\n",
    "    dataset=os.path.join(NPZ_DIR, npz_name + \".npz\"),\n",
    "    direc_data=NPZ_DIR,\n",
    "    batch_size=batch_size,\n",
    "    rotation_range=180,\n",
    "    balance_classes=True,\n",
    "    model=model,\n",
    "    n_epoch=n_epoch,\n",
    "    model_dir=MODEL_DIR,\n",
    "    transform=\"deepcell\",\n",
    "    log_dir=LOG_DIR,\n",
    "    dilation_radius=1,\n",
    "    shear=False,\n",
    "    lr_sched=lr_sched,\n",
    "    window_size=(40, 40),\n",
    "    flip=True,\n",
    "    optimizer=optimizer,\n",
    "    expt=\"sample_deepcell\",\n",
    "    model_name=MODEL_NAME,\n",
    "    val_monitor=False,\n",
    "    separate_edge_classes=False,\n",
    "    save_period=3,\n",
    "    class_weights=None\n",
    "    #class_weights={0:3, 1:1, 2:1}\n",
    ")"
   ]
  }
 ],
 "metadata": {
  "kernelspec": {
   "display_name": "Python 3",
   "language": "python",
   "name": "python3"
  },
  "language_info": {
   "codemirror_mode": {
    "name": "ipython",
    "version": 3
   },
   "file_extension": ".py",
   "mimetype": "text/x-python",
   "name": "python",
   "nbconvert_exporter": "python",
   "pygments_lexer": "ipython3",
   "version": "3.5.2"
  }
 },
 "nbformat": 4,
 "nbformat_minor": 2
}
